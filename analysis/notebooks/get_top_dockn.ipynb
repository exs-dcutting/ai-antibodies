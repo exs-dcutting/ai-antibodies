{
 "cells": [
  {
   "cell_type": "code",
   "execution_count": 18,
   "metadata": {
    "collapsed": true,
    "pycharm": {
     "name": "#%%\n"
    }
   },
   "outputs": [],
   "source": [
    "from pathlib import Path\n",
    "import pandas as pd\n",
    "import tarfile\n",
    "from io import BytesIO\n",
    "from joblib import Parallel, delayed"
   ]
  },
  {
   "cell_type": "code",
   "execution_count": 2,
   "outputs": [],
   "source": [
    "# Download the zenodo data to this filepath:\n",
    "zenodo_data_filepath = ''\n",
    "haddock_results = Path('/Users/dcutting/Library/CloudStorage/Box-Box/Exscientia - Bonvin Lab share/results/haddock_runs')"
   ],
   "metadata": {
    "collapsed": false,
    "pycharm": {
     "name": "#%%\n"
    }
   }
  },
  {
   "cell_type": "code",
   "execution_count": 8,
   "outputs": [],
   "source": [
    "def get_top_dockq(df: pd.DataFrame, n_ranks: int = 1):\n",
    "    top_dockq = df[df['caprieval_rank'].isin(range(1,n_ranks+1))]['dockq'].max()\n",
    "    return top_dockq\n",
    "\n",
    "model_name_run_dict = {'ABodyBuilder2':'ab','AlphaFold2':'af2','ABlooper':'abl','IgFold':'ig'}\n",
    "protocols_dict = {'CDR-VagueEpi-AA':'CDR-EpiVag-AA-mpi-50-50', 'Para-Epi': 'Para-Epi-mpi-50-50'}\n",
    "antigen_dict = {'alphafold2':'af2','experimental':''}\n",
    "stage_to_eval_dict = {'Rigid-body' : '2_caprieval', 'Refinement' : '5_caprieval', 'Clustering': '7_caprieval'}"
   ],
   "metadata": {
    "collapsed": false,
    "pycharm": {
     "name": "#%%\n"
    }
   }
  },
  {
   "cell_type": "code",
   "execution_count": 20,
   "outputs": [],
   "source": [
    "def get_pdb_records(pdb_tar_file_path: Path):\n",
    "    records = []\n",
    "    pdb_name = pdb_tar_file_path.name.removesuffix('.tgz')\n",
    "    with tarfile.open(pdb_tar_file_path,'r') as tfile:\n",
    "        for antigen, antigen_str in antigen_dict.items():\n",
    "            for protocol, protocol_str in protocols_dict.items():\n",
    "                for stage, eval_folder in stage_to_eval_dict.items():\n",
    "                    for model_name, model_run_str in model_name_run_dict.items():\n",
    "                        for topn in [1,10]:\n",
    "                            dockq_fpath = f'{pdb_name}/run-{antigen_str}{model_run_str}-{protocol_str}/{eval_folder}/capri_ss.tsv'\n",
    "                            file_object=tfile.extractfile(tfile.getmember(dockq_fpath))\n",
    "                            df = pd.read_csv(BytesIO(file_object.read()), sep='\\t')\n",
    "                            record = {\n",
    "                                'pdb' : pdb_name,\n",
    "                                'antigen' : antigen,\n",
    "                                'model_name' : model_name,\n",
    "                                'protocol' : protocol,\n",
    "                                'stage' : stage,\n",
    "                                'topn' : topn,\n",
    "                                'topn_dockq': get_top_dockq(df,topn)\n",
    "                            }\n",
    "                            records.append(record)\n",
    "    return records"
   ],
   "metadata": {
    "collapsed": false,
    "pycharm": {
     "name": "#%%\n"
    }
   }
  },
  {
   "cell_type": "code",
   "execution_count": null,
   "outputs": [
    {
     "name": "stderr",
     "output_type": "stream",
     "text": [
      "[Parallel(n_jobs=8)]: Using backend LokyBackend with 8 concurrent workers.\n",
      "[Parallel(n_jobs=8)]: Done   2 tasks      | elapsed:  3.7min\n",
      "[Parallel(n_jobs=8)]: Done   9 tasks      | elapsed:  7.3min\n",
      "[Parallel(n_jobs=8)]: Done  16 tasks      | elapsed: 10.7min\n"
     ]
    }
   ],
   "source": [
    "with Parallel(n_jobs=-2, backend='loky',verbose=10) as parallel:\n",
    "    nested_records = parallel(delayed(get_pdb_records)(tarfile_path) for tarfile_path in haddock_results.glob('*.tgz'))"
   ],
   "metadata": {
    "collapsed": false,
    "pycharm": {
     "name": "#%%\n",
     "is_executing": true
    }
   }
  },
  {
   "cell_type": "code",
   "execution_count": 30,
   "outputs": [],
   "source": [
    "df = pd.DataFrame([record for records in nested_records for record in records])"
   ],
   "metadata": {
    "collapsed": false,
    "pycharm": {
     "name": "#%%\n"
    }
   }
  },
  {
   "cell_type": "code",
   "execution_count": 32,
   "outputs": [],
   "source": [
    "df.to_csv('../data/topn_dockq.csv')"
   ],
   "metadata": {
    "collapsed": false,
    "pycharm": {
     "name": "#%%\n"
    }
   }
  }
 ],
 "metadata": {
  "kernelspec": {
   "display_name": "Python 3",
   "language": "python",
   "name": "python3"
  },
  "language_info": {
   "codemirror_mode": {
    "name": "ipython",
    "version": 2
   },
   "file_extension": ".py",
   "mimetype": "text/x-python",
   "name": "python",
   "nbconvert_exporter": "python",
   "pygments_lexer": "ipython2",
   "version": "2.7.6"
  }
 },
 "nbformat": 4,
 "nbformat_minor": 0
}