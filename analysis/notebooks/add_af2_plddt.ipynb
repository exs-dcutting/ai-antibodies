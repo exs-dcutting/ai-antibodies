{
 "cells": [
  {
   "cell_type": "code",
   "execution_count": 1,
   "metadata": {
    "collapsed": true,
    "pycharm": {
     "name": "#%%\n"
    }
   },
   "outputs": [],
   "source": [
    "import traceback\n",
    "\n",
    "import pandas as pd\n",
    "from pathlib import Path\n",
    "\n",
    "from tqdm import tqdm\n",
    "\n",
    "from Bio.SVDSuperimposer import SVDSuperimposer\n",
    "from Bio.PDB import PDBParser\n",
    "import numpy as np\n",
    "\n",
    "atoms_list = {\n",
    "    \"backbone\": [\"N\", \"CA\", \"C\", \"O\"],\n",
    "    \"ca\" : [\"CA\"]\n",
    "}\n",
    "\n",
    "def get_plddt_cat(plddt: float) -> str:\n",
    "    if plddt < 70:\n",
    "        return 'bad'\n",
    "    if plddt < 90:\n",
    "        return 'good'\n",
    "    return 'high'\n",
    "\n",
    "def get_rmsd_cat(rmsd: float) -> str:\n",
    "    if rmsd > 5.0:\n",
    "        return 'bad'\n",
    "    if rmsd >= 2.0:\n",
    "        return 'good'\n",
    "    return 'high'"
   ]
  },
  {
   "cell_type": "code",
   "execution_count": 20,
   "outputs": [],
   "source": [
    "def get_plddts(pdb_code: str, benchmark_folder: Path, region_type: str, model_type: str):\n",
    "    allowed_model_types = {\"antibody\", \"antigen\"}\n",
    "    if model_type not in allowed_model_types:\n",
    "        raise ValueError(f\"Unrecognised {model_type=}, must be one of {allowed_model_types}\")\n",
    "\n",
    "    allowed_region_types = {'CDR-EpiVague', 'Para-Epi', 'full'}\n",
    "    if region_type not in allowed_region_types:\n",
    "        raise ValueError(f\"Unrecognised {region_type=}, must be one of {allowed_region_types}\")\n",
    "    parser = PDBParser()\n",
    "    native = benchmark_folder/f'{pdb_code}/{pdb_code}_true_complex.pdb'\n",
    "    if model_type == 'antibody':\n",
    "        model = benchmark_folder/f'{pdb_code}/AF2_{pdb_code}_{model_type}_model_imgt.pdb'\n",
    "    else:\n",
    "        model = benchmark_folder/f'{pdb_code}/{pdb_code}_AF2_{model_type}_model.pdb'\n",
    "\n",
    "    model_chains = {chain.id: chain for chain in parser.get_structure('model', model).get_chains()}\n",
    "    if model_type == 'antibody':\n",
    "        native_chains = {chain.id: chain for chain in parser.get_structure('native', native).get_chains()\n",
    "                         if chain.id in model_chains.keys()}\n",
    "        if set(native_chains.keys()) != set(model_chains.keys()):\n",
    "            raise ValueError(\"Model chain ids not equal to native chain ids.\")\n",
    "    else:\n",
    "        native_chains = {chain.id: chain for chain in parser.get_structure('native', native).get_chains()}\n",
    "\n",
    "    region_def_nums = {chain_id: set() for chain_id in native_chains.keys()}\n",
    "\n",
    "    if region_type == 'CDR-EpiVague':\n",
    "        with open(benchmark_folder/f'{pdb_code}/{pdb_code}_residue_constraints_{model_type}.csv') as file:\n",
    "            file.readline()\n",
    "            for line in file:\n",
    "                words = line.strip().split(',')\n",
    "                if words[1][-1].isalpha():\n",
    "                    insert_code = words[1][-1]\n",
    "                    number = int(words[1][:-1])\n",
    "                else:\n",
    "                    insert_code = ' '\n",
    "                    number = int(words[1])\n",
    "                region_def_nums[words[0]].add((' ', number, insert_code))\n",
    "                native_resname =  native_chains[words[0]][(' ', number, insert_code)].resname\n",
    "                if native_resname != words[2].upper() :\n",
    "                    raise ValueError(f\"For {pdb_code=}, chain id {words[0]} residue {number}{insert_code}, \"\n",
    "                                     f\"got mismatching residue to constraint, {native_resname=}, constraint={words[2]}\")\n",
    "    elif region_type == 'Para-Epi':\n",
    "        with open(benchmark_folder/f'{pdb_code}/{pdb_code}_constraint_pairs.txt') as file:\n",
    "            file.readline()\n",
    "            for line in file:\n",
    "                antibody_line,antigen_line = line.split(':')\n",
    "                if model_type == 'antibody':\n",
    "                    words = antibody_line.strip().split(',')\n",
    "                else:\n",
    "                    words = antigen_line.strip().split(',')\n",
    "                if words[1][-1].isalpha():\n",
    "                    insert_code = words[1][-1]\n",
    "                    number = int(words[1][:-1])\n",
    "                else:\n",
    "                    insert_code = ' '\n",
    "                    number = int(words[1])\n",
    "                region_def_nums[words[0]].add((' ', number, insert_code))\n",
    "                native_resname =  native_chains[words[0]][(' ', number, insert_code)].resname\n",
    "                if native_resname != words[2].upper() :\n",
    "                    raise ValueError(f\"For {pdb_code=}, chain id {words[0]} residue {number}{insert_code}, \"\n",
    "                                     f\"got mismatching residue to constraint, {native_resname=}, constraint={words[2]}\")\n",
    "    else:\n",
    "        for chain_id, chain in native_chains.items():\n",
    "            for res in chain:\n",
    "                region_def_nums[chain_id].add(res.full_id[-1])\n",
    "\n",
    "    try:\n",
    "        if model_type == 'antibody':\n",
    "            native_region_res = [native_chains[chain_id][residue_key] for chain_id, residue_keys\n",
    "                             in region_def_nums.items() for residue_key in residue_keys]\n",
    "            model_region_res = [model_chains[chain_id][residue_key] for chain_id, residue_keys\n",
    "                             in region_def_nums.items() for residue_key in residue_keys]\n",
    "        else:\n",
    "            all_model_res = sum([list(chain.get_residues()) for chain in model_chains.values()],[])\n",
    "            all_native_res = sum([list(chain.get_residues()) for chain in native_chains.values()],[])\n",
    "            model_region_res = []\n",
    "            native_region_res = []\n",
    "            for model_res, native_res in zip(all_model_res, all_native_res):\n",
    "                if native_res.full_id[-1] in region_def_nums[native_res.full_id[-2]]:\n",
    "                    model_region_res.append(model_res)\n",
    "                    native_region_res.append(native_res)\n",
    "        native_region_atom_coords = [list(atom.coord)  for res in native_region_res for atom in res\n",
    "                                       if atom.get_id() in atoms_list['backbone']]\n",
    "\n",
    "        model_region_atom_coords = [list(atom.coord) for res in model_region_res for atom in res\n",
    "                                       if atom.get_id() in atoms_list['backbone']]\n",
    "    except Exception as e:\n",
    "        print(traceback.format_exc())\n",
    "        raise ValueError(f\"For {pdb_code=} got error {e}\")\n",
    "\n",
    "    svd = SVDSuperimposer()\n",
    "    svd.set(np.array(native_region_atom_coords), np.array(model_region_atom_coords))\n",
    "    svd.run()\n",
    "    rmsd_region = svd.get_rms()\n",
    "\n",
    "    model_region_atom_plddt = [atom.bfactor  for res in model_region_res for atom in res\n",
    "                                           if atom.get_id() in atoms_list['ca']]\n",
    "\n",
    "    region_ave_plddt = np.mean(model_region_atom_plddt)\n",
    "\n",
    "    row = {'pdb': pdb_code, 'rmsd_region': rmsd_region, 'plddt_ave_region': region_ave_plddt}\n",
    "    return row"
   ],
   "metadata": {
    "collapsed": false,
    "pycharm": {
     "name": "#%%\n"
    }
   }
  },
  {
   "cell_type": "code",
   "execution_count": 20,
   "outputs": [
    {
     "name": "stderr",
     "output_type": "stream",
     "text": [
      "  0%|          | 0/83 [00:00<?, ?it/s]"
     ]
    }
   ],
   "source": [
    "records = []\n",
    "benchmark_folder = Path('../../benchmark_haddock_23_May_2023')\n",
    "for path in tqdm(list(benchmark_folder.iterdir())):\n",
    "    if path.is_dir():\n",
    "        pdb_code = path.name\n",
    "    else:\n",
    "        continue\n",
    "    try:\n",
    "        para_epi_record = get_plddts(pdb_code,benchmark_folder,region_type='Para-Epi',model_type='antibody')\n",
    "        vague_record = get_plddts(pdb_code,benchmark_folder,region_type='CDR-EpiVague',model_type='antibody')\n",
    "        full_record = get_plddts(pdb_code,benchmark_folder,region_type='full',model_type='antibody')\n",
    "        record = {'pdb': full_record['pdb'],\n",
    "              'rmsd_full': full_record['rmsd_region'], 'plddt_ave_full': full_record['plddt_ave_region'],\n",
    "              'rmsd_full_cat': get_rmsd_cat(full_record['rmsd_region']),\n",
    "              'plddt_full_cat': get_plddt_cat(full_record['plddt_ave_region']),\n",
    "              'rmsd_vague': vague_record['rmsd_region'], 'plddt_ave_vague': vague_record['plddt_ave_region'],\n",
    "              'rmsd_vague_cat': get_rmsd_cat(vague_record['rmsd_region']),\n",
    "              'plddt_vague_cat': get_plddt_cat(vague_record['plddt_ave_region']),\n",
    "              'rmsd_para_epi': para_epi_record['rmsd_region'], 'plddt_ave_para_epi': para_epi_record['plddt_ave_region'],\n",
    "              'rmsd_para_epi_cat': get_rmsd_cat(para_epi_record['rmsd_region']),\n",
    "              'plddt_para_epi_cat': get_plddt_cat(para_epi_record['plddt_ave_region']),\n",
    "              }\n",
    "\n",
    "        records.append(record)\n",
    "    except Exception as e:\n",
    "        print(f\"Got error {e} for {pdb_code=}.\")\n",
    "df_antibody = pd.DataFrame().from_records(records)"
   ],
   "metadata": {
    "collapsed": false,
    "pycharm": {
     "name": "#%%\n"
    }
   }
  },
  {
   "cell_type": "code",
   "execution_count": 21,
   "outputs": [],
   "source": [
    "df_antibody.to_csv('../data/AF2_antibody_rmsd_plddt_multi_regions.csv')"
   ],
   "metadata": {
    "collapsed": false,
    "pycharm": {
     "name": "#%%\n"
    }
   }
  },
  {
   "cell_type": "code",
   "execution_count": 22,
   "outputs": [
    {
     "name": "stderr",
     "output_type": "stream",
     "text": [
      "100%|██████████| 83/83 [00:27<00:00,  3.07it/s]\n"
     ]
    }
   ],
   "source": [
    "records = []\n",
    "benchmark_folder = Path('/Users/dcutting/Library/CloudStorage/Box-Box/Exscientia - Bonvin Lab share/benchmark_haddock_23_May_2023')\n",
    "\n",
    "for path in tqdm(list(benchmark_folder.iterdir())):\n",
    "    if path.is_dir():\n",
    "        pdb_code = path.name\n",
    "    else:\n",
    "        continue\n",
    "    #try:\n",
    "    para_epi_record = get_plddts(pdb_code,benchmark_folder,region_type='Para-Epi',model_type='antigen')\n",
    "    vague_record = get_plddts(pdb_code,benchmark_folder,region_type='CDR-EpiVague',model_type='antigen')\n",
    "    full_record = get_plddts(pdb_code,benchmark_folder,region_type='full',model_type='antigen')\n",
    "    record = {'pdb': full_record['pdb'],\n",
    "              'rmsd_full': full_record['rmsd_region'], 'plddt_ave_full': full_record['plddt_ave_region'],\n",
    "              'rmsd_full_cat': get_rmsd_cat(full_record['rmsd_region']),\n",
    "              'plddt_full_cat': get_plddt_cat(full_record['plddt_ave_region']),\n",
    "              'rmsd_vague': vague_record['rmsd_region'], 'plddt_ave_vague': vague_record['plddt_ave_region'],\n",
    "              'rmsd_vague_cat': get_rmsd_cat(vague_record['rmsd_region']),\n",
    "              'plddt_vague_cat': get_plddt_cat(vague_record['plddt_ave_region']),\n",
    "              'rmsd_para_epi': para_epi_record['rmsd_region'], 'plddt_ave_para_epi': para_epi_record['plddt_ave_region'],\n",
    "              'rmsd_para_epi_cat': get_rmsd_cat(para_epi_record['rmsd_region']),\n",
    "              'plddt_para_epi_cat': get_plddt_cat(para_epi_record['plddt_ave_region']),\n",
    "              }\n",
    "\n",
    "    records.append(record)\n",
    "    #except Exception as e:\n",
    "    #    print(f\"Got error {e} for {pdb_code=}.\")\n",
    "df_antigen = pd.DataFrame().from_records(records)"
   ],
   "metadata": {
    "collapsed": false,
    "pycharm": {
     "name": "#%%\n"
    }
   }
  },
  {
   "cell_type": "code",
   "execution_count": 23,
   "outputs": [],
   "source": [
    "df_antigen.to_csv('../data/AF2_antigen_rmsd_plddt_multi_regions.csv')"
   ],
   "metadata": {
    "collapsed": false,
    "pycharm": {
     "name": "#%%\n"
    }
   }
  },
  {
   "cell_type": "code",
   "execution_count": null,
   "outputs": [],
   "source": [],
   "metadata": {
    "collapsed": false,
    "pycharm": {
     "name": "#%%\n"
    }
   }
  }
 ],
 "metadata": {
  "kernelspec": {
   "display_name": "Python 3",
   "language": "python",
   "name": "python3"
  },
  "language_info": {
   "codemirror_mode": {
    "name": "ipython",
    "version": 2
   },
   "file_extension": ".py",
   "mimetype": "text/x-python",
   "name": "python",
   "nbconvert_exporter": "python",
   "pygments_lexer": "ipython2",
   "version": "2.7.6"
  }
 },
 "nbformat": 4,
 "nbformat_minor": 0
}