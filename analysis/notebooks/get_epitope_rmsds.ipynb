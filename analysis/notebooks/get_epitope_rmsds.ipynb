{
 "cells": [
  {
   "cell_type": "code",
   "execution_count": 8,
   "outputs": [],
   "source": [
    "from Bio.SVDSuperimposer import SVDSuperimposer\n",
    "from Bio.PDB import PDBParser\n",
    "import numpy as np\n",
    "from tqdm import tqdm\n",
    "from pathlib import Path\n",
    "import pandas as pd\n",
    "atoms_list = {\n",
    "    \"backbone\": [\"N\", \"CA\", \"C\", \"O\"],\n",
    "}\n",
    "\n",
    "def get_antigen_rmsd(pdb_code, benchmark_folder: Path):\n",
    "    parser = PDBParser()\n",
    "    native = benchmark_folder/f'{pdb_code}/{pdb_code}_antigen.pdb'\n",
    "    model = benchmark_folder/f'{pdb_code}/{pdb_code}_AF2_antigen_model.pdb'\n",
    "\n",
    "    native_struc_res = parser.get_structure('native', native).get_residues()\n",
    "    model_struc_res = parser.get_structure('model', model).get_residues()\n",
    "\n",
    "    native_chains = list(parser.get_structure('native', native).get_chains())\n",
    "    model_chains = list(parser.get_structure('model', model).get_chains())\n",
    "    if pdb_code == '7k7h':\n",
    "        native_struc_res = list(native_chains[0].get_residues()) + list(native_chains[1].get_residues())\n",
    "\n",
    "    atom_coords_native = []\n",
    "    atom_coords_model = []\n",
    "\n",
    "    atom_coords_model_epitope = []\n",
    "    atom_coords_native_epitope = []\n",
    "\n",
    "    epitope_def_nums = set()\n",
    "    with (benchmark_folder/f'{pdb_code}/{pdb_code}_constraint_pairs.txt').open() as inf:\n",
    "        for line in inf.readlines()[1:]:\n",
    "            antigen_line = line.split(':')[1]\n",
    "            ls = antigen_line.strip().split(',')\n",
    "            epitope_def_nums.add(f'{ls[0]}{ls[1]}')\n",
    "\n",
    "    for res_nat, res_mod in zip(native_struc_res, model_struc_res):\n",
    "        atoms_nat = [list(atom.coord) for atom in list(res_nat.get_atoms()) if atom.get_id() in atoms_list['backbone']]\n",
    "        atoms_mod = [list(atom.coord) for atom in list(res_mod.get_atoms()) if atom.get_id() in atoms_list['backbone']]\n",
    "\n",
    "        atom_coords_native += atoms_nat\n",
    "        atom_coords_model += atoms_mod\n",
    "\n",
    "        if f'{res_nat.get_full_id()[2]}{res_nat.get_full_id()[3][1]}' in epitope_def_nums:\n",
    "            atom_coords_model_epitope += atoms_mod\n",
    "            atom_coords_native_epitope += atoms_nat\n",
    "\n",
    "    svd = SVDSuperimposer()\n",
    "    svd.set(np.array(atom_coords_native), np.array(atom_coords_model))\n",
    "    svd.run()\n",
    "    rmsd = svd.get_rms()\n",
    "\n",
    "    svd = SVDSuperimposer()\n",
    "    svd.set(np.array(atom_coords_native_epitope), np.array(atom_coords_model_epitope))\n",
    "    svd.run()\n",
    "    rmsd_epi = svd.get_rms()\n",
    "    row = {'pdb': pdb_code, 'rmsd': rmsd, 'rmsd_epitope': rmsd_epi}\n",
    "\n",
    "    return row"
   ],
   "metadata": {
    "collapsed": false,
    "pycharm": {
     "name": "#%%\n"
    }
   }
  },
  {
   "cell_type": "code",
   "execution_count": 9,
   "outputs": [
    {
     "name": "stderr",
     "output_type": "stream",
     "text": [
      "100%|██████████| 83/83 [00:12<00:00,  6.82it/s]\n"
     ]
    }
   ],
   "source": [
    "records = []\n",
    "benchmark_folder = Path(\n",
    "    '/Users/dcutting/Library/CloudStorage/Box-Box/Exscientia - Bonvin Lab share/benchmark_haddock_23_May_2023')\n",
    "for path in tqdm(list(benchmark_folder.iterdir())):\n",
    "    if path.is_dir():\n",
    "        pdb_code = path.name\n",
    "    else:\n",
    "        continue\n",
    "    try:\n",
    "        records.append(get_antigen_rmsd(pdb_code, benchmark_folder))\n",
    "    except Exception as e:\n",
    "        print(f\"Got error {e} for {pdb_code=}.\")\n"
   ],
   "metadata": {
    "collapsed": false,
    "pycharm": {
     "name": "#%%\n"
    }
   }
  },
  {
   "cell_type": "code",
   "execution_count": 10,
   "outputs": [],
   "source": [
    "epitope_rmsd_df = pd.DataFrame.from_records(records)\n"
   ],
   "metadata": {
    "collapsed": false,
    "pycharm": {
     "name": "#%%\n"
    }
   }
  },
  {
   "cell_type": "code",
   "execution_count": 13,
   "outputs": [
    {
     "name": "stdout",
     "output_type": "stream",
     "text": [
      "     pdb      rmsd  rmsd_epitope\n",
      "0   7q0g  0.705099      1.143558\n",
      "1   7q0i  2.453988      4.086787\n",
      "2   7pi7  1.421933      2.482512\n",
      "3   7f7e  1.037556      0.423620\n",
      "4   7n4i  1.075521      0.971252\n",
      "..   ...       ...           ...\n",
      "76  7kf0  0.884482      0.360559\n",
      "77  7kf1  0.879388      0.370756\n",
      "78  7phu  1.232355      2.059458\n",
      "79  6xsw  1.305173      1.450052\n",
      "80  7s13  1.735253      0.948656\n",
      "\n",
      "[81 rows x 3 columns]\n"
     ]
    }
   ],
   "source": [
    "print(epitope_rmsd_df)"
   ],
   "metadata": {
    "collapsed": false,
    "pycharm": {
     "name": "#%%\n"
    }
   }
  },
  {
   "cell_type": "code",
   "execution_count": 12,
   "outputs": [],
   "source": [
    "epitope_rmsd_df.to_csv('../data/AF2_antigen_rmsd.csv')"
   ],
   "metadata": {
    "collapsed": false,
    "pycharm": {
     "name": "#%%\n"
    }
   }
  },
  {
   "cell_type": "code",
   "execution_count": null,
   "outputs": [],
   "source": [],
   "metadata": {
    "collapsed": false,
    "pycharm": {
     "name": "#%%\n"
    }
   }
  }
 ],
 "metadata": {
  "kernelspec": {
   "display_name": "Python 3",
   "language": "python",
   "name": "python3"
  },
  "language_info": {
   "codemirror_mode": {
    "name": "ipython",
    "version": 2
   },
   "file_extension": ".py",
   "mimetype": "text/x-python",
   "name": "python",
   "nbconvert_exporter": "python",
   "pygments_lexer": "ipython2",
   "version": "2.7.6"
  }
 },
 "nbformat": 4,
 "nbformat_minor": 0
}