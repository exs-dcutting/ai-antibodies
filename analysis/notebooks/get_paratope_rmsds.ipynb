{
 "cells": [
  {
   "cell_type": "code",
   "execution_count": 1,
   "metadata": {
    "collapsed": true,
    "pycharm": {
     "name": "#%%\n"
    }
   },
   "outputs": [],
   "source": [
    "from pathlib import Path\n",
    "import traceback\n",
    "import pandas as pd\n",
    "from tqdm import tqdm"
   ]
  },
  {
   "cell_type": "code",
   "execution_count": 6,
   "outputs": [],
   "source": [
    "from Bio.SVDSuperimposer import SVDSuperimposer\n",
    "from Bio.PDB import PDBParser\n",
    "import numpy as np\n",
    "\n",
    "atoms_list = {\n",
    "    \"backbone\": [\"N\", \"CA\", \"C\", \"O\"],\n",
    "}\n",
    "\n",
    "\n",
    "\n",
    "def get_paratope_rmsds(pdb_code: str, model_name: str, benchmark_folder: Path):\n",
    "    parser = PDBParser()\n",
    "    native = benchmark_folder/f'{pdb_code}/{pdb_code}_true_complex.pdb'\n",
    "    if model_name == 'ABodyBuilder2':\n",
    "        model = benchmark_folder/f'{pdb_code}/{model_name}_{pdb_code}_antibody_model.pdb'\n",
    "    elif 'ensemble' in model_name:\n",
    "        model = benchmark_folder/f'{pdb_code}/ABB2_ensemble_models_{pdb_code}/{model_name.split(\"_\")[-1]}_refined.pdb'\n",
    "    else:\n",
    "        model = benchmark_folder/f'{pdb_code}/{model_name}_{pdb_code}_antibody_model_imgt.pdb'\n",
    "\n",
    "    model_chains = {chain.id: chain for chain in parser.get_structure('model', model).get_chains()}\n",
    "    native_chains = {chain.id: chain for chain in parser.get_structure('native', native).get_chains()\n",
    "                     if chain.id in model_chains.keys()}\n",
    "\n",
    "    if set(native_chains.keys()) != set(model_chains.keys()):\n",
    "        raise ValueError(\"Model chain ids not equal to native chain ids.\")\n",
    "\n",
    "    paratope_def_nums = {chain_id: set() for chain_id in model_chains.keys()}\n",
    "\n",
    "    with open(benchmark_folder/f'{pdb_code}/{pdb_code}_constraint_pairs.txt') as file:\n",
    "        file.readline()\n",
    "        for line in file:\n",
    "            antibody_line = line.split(':')[0]\n",
    "            words = antibody_line.strip().split(',')\n",
    "            if words[1][-1].isalpha():\n",
    "                insert_code = words[1][-1]\n",
    "                number = int(words[1][:-1])\n",
    "            else:\n",
    "                insert_code = ' '\n",
    "                number = int(words[1])\n",
    "            paratope_def_nums[words[0]].add((' ', number, insert_code))\n",
    "            model_resname =  model_chains[words[0]][(' ', number, insert_code)].resname\n",
    "            if model_resname != words[2].upper() :\n",
    "                raise ValueError(f\"For {pdb_code=}, chain id {words[0]} residue {number}{insert_code}, \"\n",
    "                                 f\"got mismatching residue to constraint, {model_resname=}, constraint={words[2]}\")\n",
    "\n",
    "    try:\n",
    "        native_paratope_atom_coords = [list(atom.coord)  for chain_id, residue_keys\n",
    "                                       in paratope_def_nums.items() for residue_key in residue_keys\n",
    "                                       for atom in native_chains[chain_id][residue_key]\n",
    "                                       if atom.get_id() in atoms_list['backbone']]\n",
    "\n",
    "        model_paratope_atom_coords = [list(atom.coord)  for chain_id, residue_keys\n",
    "                                       in paratope_def_nums.items() for residue_key in residue_keys\n",
    "                                       for atom in model_chains[chain_id][residue_key]\n",
    "                                       if atom.get_id() in atoms_list['backbone']]\n",
    "    except Exception as e:\n",
    "        print(traceback.format_exc())\n",
    "        raise ValueError(f\"For {pdb_code=}, {model_name=}, got error {e}\")\n",
    "\n",
    "\n",
    "    svd = SVDSuperimposer()\n",
    "    svd.set(np.array(native_paratope_atom_coords), np.array(model_paratope_atom_coords))\n",
    "    svd.run()\n",
    "    rmsd_para = svd.get_rms()\n",
    "    row = {'pdb': pdb_code, 'model': model_name, 'rmsd_paratope': rmsd_para}\n",
    "\n",
    "    return row"
   ],
   "metadata": {
    "collapsed": false,
    "pycharm": {
     "name": "#%%\n"
    }
   }
  },
  {
   "cell_type": "code",
   "execution_count": 7,
   "outputs": [
    {
     "name": "stderr",
     "output_type": "stream",
     "text": [
      " 16%|█▌        | 13/83 [00:08<00:36,  1.93it/s]/Users/dcutting/Projects/aiabs/.venv/lib/python3.9/site-packages/Bio/PDB/PDBParser.py:236: PDBConstructionWarning: Negative occupancy in one or more atoms\n",
      "  warnings.warn(\n",
      "100%|██████████| 83/83 [00:56<00:00,  1.47it/s]\n"
     ]
    }
   ],
   "source": [
    "records = []\n",
    "model_names = [\"ABodyBuilder2\", \"ABlooper\", \"AF2\", \"IgFold\"]+ [f\"ABB2_ensemble_rank{i}\" for i in range(4)]\n",
    "benchmark_folder = Path('../../benchmark_haddock_23_May_2023')\n",
    "for path in tqdm(list(benchmark_folder.iterdir())):\n",
    "    if path.is_dir():\n",
    "        pdb_code = path.name\n",
    "    else:\n",
    "        continue\n",
    "    for model_name in model_names:\n",
    "        try:\n",
    "            records.append(get_paratope_rmsds(pdb_code,model_name,benchmark_folder))\n",
    "        except Exception as e:\n",
    "            print(f\"Got error {e} for {pdb_code=}, {model_name=}.\")"
   ],
   "metadata": {
    "collapsed": false,
    "pycharm": {
     "name": "#%%\n"
    }
   }
  },
  {
   "cell_type": "code",
   "execution_count": 8,
   "outputs": [],
   "source": [
    "paratope_rmsd_df = pd.DataFrame.from_records(records)"
   ],
   "metadata": {
    "collapsed": false,
    "pycharm": {
     "name": "#%%\n"
    }
   }
  },
  {
   "cell_type": "code",
   "execution_count": 9,
   "outputs": [],
   "source": [
    "paratope_rmsd_df.to_csv('../data/paratope_rmsds.csv')"
   ],
   "metadata": {
    "collapsed": false,
    "pycharm": {
     "name": "#%%\n"
    }
   }
  },
  {
   "cell_type": "code",
   "execution_count": 10,
   "outputs": [
    {
     "name": "stdout",
     "output_type": "stream",
     "text": [
      "      pdb                model  rmsd_paratope\n",
      "0    7q0g        ABodyBuilder2       3.199848\n",
      "1    7q0g             ABlooper       2.675287\n",
      "2    7q0g                  AF2       3.306487\n",
      "3    7q0g               IgFold       2.866815\n",
      "4    7q0g  ABB2_ensemble_rank0       3.370159\n",
      "..    ...                  ...            ...\n",
      "643  7s13               IgFold       1.441026\n",
      "644  7s13  ABB2_ensemble_rank0       1.308578\n",
      "645  7s13  ABB2_ensemble_rank1       1.444428\n",
      "646  7s13  ABB2_ensemble_rank2       1.178569\n",
      "647  7s13  ABB2_ensemble_rank3       1.269890\n",
      "\n",
      "[648 rows x 3 columns]\n"
     ]
    }
   ],
   "source": [
    "print(paratope_rmsd_df)"
   ],
   "metadata": {
    "collapsed": false,
    "pycharm": {
     "name": "#%%\n"
    }
   }
  },
  {
   "cell_type": "code",
   "execution_count": null,
   "outputs": [],
   "source": [],
   "metadata": {
    "collapsed": false,
    "pycharm": {
     "name": "#%%\n"
    }
   }
  }
 ],
 "metadata": {
  "kernelspec": {
   "display_name": "Python 3",
   "language": "python",
   "name": "python3"
  },
  "language_info": {
   "codemirror_mode": {
    "name": "ipython",
    "version": 2
   },
   "file_extension": ".py",
   "mimetype": "text/x-python",
   "name": "python",
   "nbconvert_exporter": "python",
   "pygments_lexer": "ipython2",
   "version": "2.7.6"
  }
 },
 "nbformat": 4,
 "nbformat_minor": 0
}