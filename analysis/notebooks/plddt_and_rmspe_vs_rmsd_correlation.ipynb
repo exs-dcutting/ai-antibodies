{
 "cells": [
  {
   "cell_type": "code",
   "execution_count": 2,
   "metadata": {
    "collapsed": true,
    "pycharm": {
     "name": "#%%\n"
    }
   },
   "outputs": [],
   "source": [
    "from scipy.stats import pearsonr, spearmanr, kendalltau\n",
    "import pandas as pd"
   ]
  },
  {
   "cell_type": "code",
   "execution_count": 21,
   "outputs": [],
   "source": [
    "plddt_paratope_df = pd.read_csv('../data/AF2_antibody_rmsd_plddt.csv',sep='\\t')\n",
    "plddt_epitope_df = pd.read_csv('../data/AF2_antigen_rmsd_plddt.csv',sep='\\t')\n",
    "rmspe_paratope_df = pd.read_csv('../data/ABB2_antibody_rmsd_conf.csv')\n",
    "paratope_rmsd_df = pd.read_csv('../data/paratope_rmsds.csv')\n",
    "epitope_rmsd_df = pd.read_csv('../data/AF2_antigen_rmsd.csv')"
   ],
   "metadata": {
    "collapsed": false,
    "pycharm": {
     "name": "#%%\n"
    }
   }
  },
  {
   "cell_type": "code",
   "execution_count": 14,
   "outputs": [],
   "source": [
    "pdbs_to_remove = {'6xsw', '7cj2', '7e9b', '7m3n', '7n3c', '7n3d', '7o52', '7or9', '7kpj', '7kn4'}"
   ],
   "metadata": {
    "collapsed": false,
    "pycharm": {
     "name": "#%%\n"
    }
   }
  },
  {
   "cell_type": "code",
   "execution_count": 15,
   "outputs": [],
   "source": [
    "af2_paratope_plddt_rmsd_df = plddt_paratope_df.merge(paratope_rmsd_df.query('model==\"AF2\"'), on='pdb')\n",
    "af2_paratope_plddt_rmsd_df = af2_paratope_plddt_rmsd_df.loc[[pdb not in pdbs_to_remove for pdb in af2_paratope_plddt_rmsd_df['pdb']]]"
   ],
   "metadata": {
    "collapsed": false,
    "pycharm": {
     "name": "#%%\n"
    }
   }
  },
  {
   "cell_type": "code",
   "execution_count": 16,
   "outputs": [
    {
     "data": {
      "text/plain": "PearsonRResult(statistic=-0.6784314608649731, pvalue=7.991751095128237e-11)"
     },
     "execution_count": 16,
     "metadata": {},
     "output_type": "execute_result"
    }
   ],
   "source": [
    "pearsonr(af2_paratope_plddt_rmsd_df['para-ave-plddt'], af2_paratope_plddt_rmsd_df['rmsd_paratope'])"
   ],
   "metadata": {
    "collapsed": false,
    "pycharm": {
     "name": "#%%\n"
    }
   }
  },
  {
   "cell_type": "code",
   "execution_count": 17,
   "outputs": [],
   "source": [
    "af2_epitope_plddt_rmsd_df = plddt_epitope_df.merge(epitope_rmsd_df, on='pdb')\n",
    "af2_epitope_plddt_rmsd_df = af2_epitope_plddt_rmsd_df.loc[[pdb not in pdbs_to_remove for pdb in af2_epitope_plddt_rmsd_df['pdb']]]\n"
   ],
   "metadata": {
    "collapsed": false,
    "pycharm": {
     "name": "#%%\n"
    }
   }
  },
  {
   "cell_type": "code",
   "execution_count": 18,
   "outputs": [
    {
     "data": {
      "text/plain": "PearsonRResult(statistic=-0.625268095063695, pvalue=5.5729255637134245e-09)"
     },
     "execution_count": 18,
     "metadata": {},
     "output_type": "execute_result"
    }
   ],
   "source": [
    "pearsonr(af2_epitope_plddt_rmsd_df['epi-ave-plddt'], af2_epitope_plddt_rmsd_df['rmsd_epitope_y'])\n"
   ],
   "metadata": {
    "collapsed": false,
    "pycharm": {
     "name": "#%%\n"
    }
   }
  },
  {
   "cell_type": "code",
   "execution_count": 33,
   "outputs": [],
   "source": [
    "abb2_paratope_rmspe_rmsd_df = rmspe_paratope_df.loc[[pdb not in pdbs_to_remove for pdb in rmspe_paratope_df['pdb']]]\n"
   ],
   "metadata": {
    "collapsed": false,
    "pycharm": {
     "name": "#%%\n"
    }
   }
  },
  {
   "cell_type": "code",
   "execution_count": 34,
   "outputs": [
    {
     "data": {
      "text/plain": "PearsonRResult(statistic=0.7226595479044101, pvalue=1.12050644963342e-12)"
     },
     "execution_count": 34,
     "metadata": {},
     "output_type": "execute_result"
    }
   ],
   "source": [
    "pearsonr(abb2_paratope_rmspe_rmsd_df['para_ave_conf'], abb2_paratope_rmspe_rmsd_df['rmsd_paratope'])"
   ],
   "metadata": {
    "collapsed": false,
    "pycharm": {
     "name": "#%%\n"
    }
   }
  },
  {
   "cell_type": "code",
   "execution_count": null,
   "outputs": [],
   "source": [],
   "metadata": {
    "collapsed": false,
    "pycharm": {
     "name": "#%%\n"
    }
   }
  }
 ],
 "metadata": {
  "kernelspec": {
   "display_name": "Python 3",
   "language": "python",
   "name": "python3"
  },
  "language_info": {
   "codemirror_mode": {
    "name": "ipython",
    "version": 2
   },
   "file_extension": ".py",
   "mimetype": "text/x-python",
   "name": "python",
   "nbconvert_exporter": "python",
   "pygments_lexer": "ipython2",
   "version": "2.7.6"
  }
 },
 "nbformat": 4,
 "nbformat_minor": 0
}