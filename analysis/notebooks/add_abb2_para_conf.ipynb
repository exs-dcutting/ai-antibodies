{
 "cells": [
  {
   "cell_type": "code",
   "execution_count": 22,
   "metadata": {
    "collapsed": true,
    "pycharm": {
     "name": "#%%\n"
    }
   },
   "outputs": [],
   "source": [
    "import traceback\n",
    "\n",
    "import pandas as pd\n",
    "from pathlib import Path\n",
    "\n",
    "from tqdm import tqdm\n",
    "\n",
    "from Bio.SVDSuperimposer import SVDSuperimposer\n",
    "from Bio.PDB import PDBParser\n",
    "import numpy as np\n",
    "\n",
    "atoms_list = {\n",
    "    \"backbone\": [\"N\", \"CA\", \"C\", \"O\"],\n",
    "    \"ca\": [\"CA\"]\n",
    "}"
   ]
  },
  {
   "cell_type": "code",
   "execution_count": 28,
   "outputs": [],
   "source": [
    "def get_paratope_confs(pdb_code: str, benchmark_folder: Path, cdr_epi_vague: bool = False):\n",
    "    parser = PDBParser()\n",
    "    native = benchmark_folder/f'{pdb_code}/{pdb_code}_true_complex.pdb'\n",
    "    model = benchmark_folder/f'{pdb_code}/ABodyBuilder2_{pdb_code}_antibody_model.pdb'\n",
    "\n",
    "    model_chains = {chain.id: chain for chain in parser.get_structure('model', model).get_chains()}\n",
    "    native_chains = {chain.id: chain for chain in parser.get_structure('native', native).get_chains()\n",
    "                     if chain.id in model_chains.keys()}\n",
    "\n",
    "    if set(native_chains.keys()) != set(model_chains.keys()):\n",
    "        raise ValueError(\"Model chain ids not equal to native chain ids.\")\n",
    "\n",
    "    paratope_def_nums = {chain_id: set() for chain_id in model_chains.keys()}\n",
    "    if cdr_epi_vague:\n",
    "        with open(benchmark_folder/f'{pdb_code}/{pdb_code}_residue_constraints_antibody.csv') as file:\n",
    "            file.readline()\n",
    "            for line in file:\n",
    "                words = line.strip().split(',')\n",
    "                if words[1][-1].isalpha():\n",
    "                    insert_code = words[1][-1]\n",
    "                    number = int(words[1][:-1])\n",
    "                else:\n",
    "                    insert_code = ' '\n",
    "                    number = int(words[1])\n",
    "                paratope_def_nums[words[0]].add((' ', number, insert_code))\n",
    "                model_resname =  model_chains[words[0]][(' ', number, insert_code)].resname\n",
    "                if model_resname != words[2].upper() :\n",
    "                    raise ValueError(f\"For {pdb_code=}, chain id {words[0]} residue {number}{insert_code}, \"\n",
    "                                     f\"got mismatching residue to constraint, {model_resname=}, constraint={words[2]}\")\n",
    "    else:\n",
    "        with open(benchmark_folder/f'{pdb_code}/{pdb_code}_constraint_pairs.txt') as file:\n",
    "            file.readline()\n",
    "            for line in file:\n",
    "                antibody_line = line.split(':')[0]\n",
    "                words = antibody_line.strip().split(',')\n",
    "                if words[1][-1].isalpha():\n",
    "                    insert_code = words[1][-1]\n",
    "                    number = int(words[1][:-1])\n",
    "                else:\n",
    "                    insert_code = ' '\n",
    "                    number = int(words[1])\n",
    "                paratope_def_nums[words[0]].add((' ', number, insert_code))\n",
    "                model_resname =  model_chains[words[0]][(' ', number, insert_code)].resname\n",
    "                if model_resname != words[2].upper() :\n",
    "                    raise ValueError(f\"For {pdb_code=}, chain id {words[0]} residue {number}{insert_code}, \"\n",
    "                                     f\"got mismatching residue to constraint, {model_resname=}, constraint={words[2]}\")\n",
    "\n",
    "    try:\n",
    "        native_paratope_atom_coords = [list(atom.coord)  for chain_id, residue_keys\n",
    "                                       in paratope_def_nums.items() for residue_key in residue_keys\n",
    "                                       for atom in native_chains[chain_id][residue_key]\n",
    "                                       if atom.get_id() in atoms_list['backbone']]\n",
    "\n",
    "        model_paratope_atom_coords = [list(atom.coord)  for chain_id, residue_keys\n",
    "                                       in paratope_def_nums.items() for residue_key in residue_keys\n",
    "                                       for atom in model_chains[chain_id][residue_key]\n",
    "                                       if atom.get_id() in atoms_list['backbone']]\n",
    "    except Exception as e:\n",
    "        print(traceback.format_exc())\n",
    "        raise ValueError(f\"For {pdb_code=} got error {e}\")\n",
    "\n",
    "    svd = SVDSuperimposer()\n",
    "    svd.set(np.array(native_paratope_atom_coords), np.array(model_paratope_atom_coords))\n",
    "    svd.run()\n",
    "    rmsd_para = svd.get_rms()\n",
    "\n",
    "    model_paratope_atom_conf = [atom.bfactor  for chain_id, residue_keys\n",
    "                                           in paratope_def_nums.items() for residue_key in residue_keys\n",
    "                                           for atom in model_chains[chain_id][residue_key]\n",
    "                                           if atom.get_id() in atoms_list['backbone']]\n",
    "\n",
    "    para_ave_conf = np.mean(model_paratope_atom_conf)\n",
    "    row = {'pdb': pdb_code, 'rmsd_paratope': rmsd_para, 'para_ave_conf': para_ave_conf}\n",
    "\n",
    "    return row"
   ],
   "metadata": {
    "collapsed": false,
    "pycharm": {
     "name": "#%%\n"
    }
   }
  },
  {
   "cell_type": "code",
   "execution_count": 29,
   "outputs": [
    {
     "name": "stderr",
     "output_type": "stream",
     "text": [
      " 54%|█████▍    | 45/83 [00:07<00:05,  6.66it/s]"
     ]
    },
    {
     "name": "stdout",
     "output_type": "stream",
     "text": [
      "Got error (' ', 31, ' ') for pdb_code='7kn4'.\n"
     ]
    },
    {
     "name": "stderr",
     "output_type": "stream",
     "text": [
      "100%|██████████| 83/83 [00:13<00:00,  6.23it/s]\n"
     ]
    }
   ],
   "source": [
    "records = []\n",
    "benchmark_folder = Path('/Users/dcutting/Library/CloudStorage/Box-Box/Exscientia - Bonvin Lab share/benchmark_haddock_23_May_2023')\n",
    "for path in tqdm(list(benchmark_folder.iterdir())):\n",
    "    if path.is_dir():\n",
    "        pdb_code = path.name\n",
    "    else:\n",
    "        continue\n",
    "    try:\n",
    "        record = get_paratope_confs(pdb_code,benchmark_folder)\n",
    "        vague_para_record = get_paratope_confs(pdb_code,benchmark_folder,cdr_epi_vague=True)\n",
    "        record.update({'rmsd_vague_paratope': vague_para_record['rmsd_paratope'],\n",
    "                       'para_vague_ave_conf': vague_para_record['para_ave_conf']})\n",
    "        records.append(record)\n",
    "    except Exception as e:\n",
    "        print(f\"Got error {e} for {pdb_code=}.\")"
   ],
   "metadata": {
    "collapsed": false,
    "pycharm": {
     "name": "#%%\n"
    }
   }
  },
  {
   "cell_type": "code",
   "execution_count": 30,
   "outputs": [
    {
     "name": "stdout",
     "output_type": "stream",
     "text": [
      "[{'pdb': '7q0g', 'rmsd_paratope': 3.199847589461224, 'para_ave_conf': 0.6395454545454545, 'rmsd_vague_paratope': 2.4799229976237367, 'para_vague_ave_conf': 0.44591549295774646}, {'pdb': '7q0i', 'rmsd_paratope': 2.1469648848815446, 'para_ave_conf': 1.1522222222222223, 'rmsd_vague_paratope': 1.6317770988611637, 'para_vague_ave_conf': 0.8725316455696204}, {'pdb': '7pi7', 'rmsd_paratope': 0.89587879213425, 'para_ave_conf': 0.46366666666666667, 'rmsd_vague_paratope': 0.7819444458210867, 'para_vague_ave_conf': 0.37742857142857145}, {'pdb': '7f7e', 'rmsd_paratope': 2.9947311470700604, 'para_ave_conf': 1.4594117647058826, 'rmsd_vague_paratope': 2.93353236272712, 'para_vague_ave_conf': 0.8200000000000001}, {'pdb': '7n4i', 'rmsd_paratope': 2.188082120803512, 'para_ave_conf': 0.8457692307692307, 'rmsd_vague_paratope': 1.50823018334282, 'para_vague_ave_conf': 0.4516666666666667}, {'pdb': '7mdj', 'rmsd_paratope': 1.3516068686214953, 'para_ave_conf': 0.6404761904761906, 'rmsd_vague_paratope': 1.2458037001181854, 'para_vague_ave_conf': 0.4343478260869565}, {'pdb': '7s0b', 'rmsd_paratope': 1.67197610424616, 'para_ave_conf': 0.5537500000000001, 'rmsd_vague_paratope': 1.2491241989738016, 'para_vague_ave_conf': 0.38430555555555557}, {'pdb': '7qu2', 'rmsd_paratope': 2.1920473966785963, 'para_ave_conf': 0.7439130434782608, 'rmsd_vague_paratope': 1.7346912455657815, 'para_vague_ave_conf': 0.5656578947368421}, {'pdb': '7nx3', 'rmsd_paratope': 2.11074825501538, 'para_ave_conf': 0.5081818181818182, 'rmsd_vague_paratope': 1.2948880549671318, 'para_vague_ave_conf': 0.31144736842105264}, {'pdb': '7lfb', 'rmsd_paratope': 1.749998256137524, 'para_ave_conf': 0.7335999999999998, 'rmsd_vague_paratope': 1.2558108897693856, 'para_vague_ave_conf': 0.49263888888888885}, {'pdb': '7m3n', 'rmsd_paratope': 0.7831029775617702, 'para_ave_conf': 0.346, 'rmsd_vague_paratope': 0.6773239226291234, 'para_vague_ave_conf': 0.28957746478873236}, {'pdb': '7mzf', 'rmsd_paratope': 0.9905115740815011, 'para_ave_conf': 0.37964285714285717, 'rmsd_vague_paratope': 0.747336473171155, 'para_vague_ave_conf': 0.2982352941176471}, {'pdb': '7kpj', 'rmsd_paratope': 0.3699953762830907, 'para_ave_conf': 0.262, 'rmsd_vague_paratope': 0.9316004878719474, 'para_vague_ave_conf': 0.26179104477611936}, {'pdb': '7pr0', 'rmsd_paratope': 3.2113498627553505, 'para_ave_conf': 1.8886956521739122, 'rmsd_vague_paratope': 4.556491418091021, 'para_vague_ave_conf': 1.4266666666666667}, {'pdb': '7mzh', 'rmsd_paratope': 0.9023338473850213, 'para_ave_conf': 0.38478260869565223, 'rmsd_vague_paratope': 0.6169490910096135, 'para_vague_ave_conf': 0.3327536231884058}, {'pdb': '7e5o', 'rmsd_paratope': 1.485839396752873, 'para_ave_conf': 0.6335714285714283, 'rmsd_vague_paratope': 1.2053897879682973, 'para_vague_ave_conf': 0.4808450704225352}, {'pdb': '7qnw', 'rmsd_paratope': 2.685348636593141, 'para_ave_conf': 2.008125, 'rmsd_vague_paratope': 2.483971584193227, 'para_vague_ave_conf': 0.8777215189873419}, {'pdb': '7k9j', 'rmsd_paratope': 2.0641586878097056, 'para_ave_conf': 0.5719047619047618, 'rmsd_vague_paratope': 1.5252135862462304, 'para_vague_ave_conf': 0.3457746478873239}, {'pdb': '7qny', 'rmsd_paratope': 3.195681663924678, 'para_ave_conf': 0.6358620689655176, 'rmsd_vague_paratope': 2.568107795722691, 'para_vague_ave_conf': 0.8512500000000001}, {'pdb': '7mzi', 'rmsd_paratope': 0.9357194795329176, 'para_ave_conf': 0.4057142857142857, 'rmsd_vague_paratope': 0.8444504910874411, 'para_vague_ave_conf': 0.3293055555555556}, {'pdb': '7e9b', 'rmsd_paratope': 0.5279031595813503, 'para_ave_conf': 0.2357692307692308, 'rmsd_vague_paratope': 0.4791241506684449, 'para_vague_ave_conf': 0.1971641791044776}, {'pdb': '7r8l', 'rmsd_paratope': 0.9324647178734383, 'para_ave_conf': 0.3181818181818182, 'rmsd_vague_paratope': 0.8004794199927483, 'para_vague_ave_conf': 0.2645714285714286}, {'pdb': '7mzg', 'rmsd_paratope': 1.49952856103095, 'para_ave_conf': 0.584642857142857, 'rmsd_vague_paratope': 1.2836209467355066, 'para_vague_ave_conf': 0.41214285714285714}, {'pdb': '7daa', 'rmsd_paratope': 1.3022611979755387, 'para_ave_conf': 0.567, 'rmsd_vague_paratope': 1.1263528205722495, 'para_vague_ave_conf': 0.45507246376811594}, {'pdb': '7ps2', 'rmsd_paratope': 3.4772319080280987, 'para_ave_conf': 0.8491304347826084, 'rmsd_vague_paratope': 2.649303064353393, 'para_vague_ave_conf': 0.645764705882353}, {'pdb': '7si0', 'rmsd_paratope': 1.722613638027351, 'para_ave_conf': 0.31470588235294106, 'rmsd_vague_paratope': 1.1287689097653106, 'para_vague_ave_conf': 0.21789473684210528}, {'pdb': '7e72', 'rmsd_paratope': 1.0286121833880473, 'para_ave_conf': 0.45521739130434785, 'rmsd_vague_paratope': 0.838162813883313, 'para_vague_ave_conf': 0.36303030303030304}, {'pdb': '7or9', 'rmsd_paratope': 1.364214717432324, 'para_ave_conf': 0.9140909090909091, 'rmsd_vague_paratope': 0.8936487029320391, 'para_vague_ave_conf': 0.4984}, {'pdb': '7vux', 'rmsd_paratope': 0.7016909570987314, 'para_ave_conf': 0.33925925925925926, 'rmsd_vague_paratope': 0.5490058609533024, 'para_vague_ave_conf': 0.29367647058823526}, {'pdb': '7ps4', 'rmsd_paratope': 3.659906802910367, 'para_ave_conf': 1.4157142857142855, 'rmsd_vague_paratope': 2.688712693668976, 'para_vague_ave_conf': 0.85}, {'pdb': '7bbj', 'rmsd_paratope': 1.0402125030003417, 'para_ave_conf': 0.40869565217391296, 'rmsd_vague_paratope': 0.7656267768317186, 'para_vague_ave_conf': 0.2985294117647058}, {'pdb': '7sem', 'rmsd_paratope': 1.3007114151087809, 'para_ave_conf': 0.73, 'rmsd_vague_paratope': 0.8765109779776489, 'para_vague_ave_conf': 0.4784810126582278}, {'pdb': '7phw', 'rmsd_paratope': 4.968567633331127, 'para_ave_conf': 1.688, 'rmsd_vague_paratope': 2.777672035564473, 'para_vague_ave_conf': 0.969864864864865}, {'pdb': '7s11', 'rmsd_paratope': 2.4532430049431486, 'para_ave_conf': 0.67, 'rmsd_vague_paratope': 2.0293293667736547, 'para_vague_ave_conf': 0.48250000000000004}, {'pdb': '7np1', 'rmsd_paratope': 3.449451458210251, 'para_ave_conf': 0.8331999999999999, 'rmsd_vague_paratope': 3.012967480604943, 'para_vague_ave_conf': 0.6346575342465754}, {'pdb': '7cj2', 'rmsd_paratope': 1.3097036254885097, 'para_ave_conf': 0.5129032258064515, 'rmsd_vague_paratope': 0.9682078107426549, 'para_vague_ave_conf': 0.42136363636363633}, {'pdb': '7n3i', 'rmsd_paratope': 0.8621343615099567, 'para_ave_conf': 0.36625, 'rmsd_vague_paratope': 0.7274255317624052, 'para_vague_ave_conf': 0.30057142857142854}, {'pdb': '7rah', 'rmsd_paratope': 0.748392081529463, 'para_ave_conf': 0.3639130434782609, 'rmsd_vague_paratope': 0.5827290379475207, 'para_vague_ave_conf': 0.265}, {'pdb': '7n0u', 'rmsd_paratope': 0.5537087522863903, 'para_ave_conf': 0.469, 'rmsd_vague_paratope': 0.4607947756082742, 'para_vague_ave_conf': 0.3577611940298508}, {'pdb': '7rks', 'rmsd_paratope': 3.8085021477911907, 'para_ave_conf': 1.155909090909091, 'rmsd_vague_paratope': 3.4199606932281026, 'para_vague_ave_conf': 0.8281927710843374}, {'pdb': '7kn3', 'rmsd_paratope': 1.0870590543734562, 'para_ave_conf': 0.36639999999999984, 'rmsd_vague_paratope': 0.8514879766256113, 'para_vague_ave_conf': 0.2704109589041096}, {'pdb': '7n4j', 'rmsd_paratope': 4.2247636537074476, 'para_ave_conf': 0.7683999999999999, 'rmsd_vague_paratope': 3.5090867528113656, 'para_vague_ave_conf': 0.7576136363636364}, {'pdb': '7rco', 'rmsd_paratope': 1.0920093636687696, 'para_ave_conf': 0.493, 'rmsd_vague_paratope': 1.0639637579053867, 'para_vague_ave_conf': 0.5611111111111111}, {'pdb': '7lr4', 'rmsd_paratope': 2.5362682232119296, 'para_ave_conf': 0.8433333333333335, 'rmsd_vague_paratope': 1.5333532563587593, 'para_vague_ave_conf': 0.4927777777777778}, {'pdb': '7lr3', 'rmsd_paratope': 0.8316002802523692, 'para_ave_conf': 0.43052631578947365, 'rmsd_vague_paratope': 0.7488926926301075, 'para_vague_ave_conf': 0.3759701492537314}, {'pdb': '7qu1', 'rmsd_paratope': 1.7017951663141768, 'para_ave_conf': 0.6257142857142857, 'rmsd_vague_paratope': 0.9306820238718532, 'para_vague_ave_conf': 0.35887323943661975}, {'pdb': '7rfb', 'rmsd_paratope': 2.2129290466889042, 'para_ave_conf': 1.3023076923076924, 'rmsd_vague_paratope': 1.6764236737830038, 'para_vague_ave_conf': 0.9035365853658537}, {'pdb': '7l7r', 'rmsd_paratope': 2.6172749135416753, 'para_ave_conf': 0.6384210526315788, 'rmsd_vague_paratope': 1.9804878719187347, 'para_vague_ave_conf': 0.41521739130434787}, {'pdb': '7pqy', 'rmsd_paratope': 2.671661628019331, 'para_ave_conf': 0.39909090909090916, 'rmsd_vague_paratope': 1.9050699110868243, 'para_vague_ave_conf': 0.30558823529411766}, {'pdb': '7msq', 'rmsd_paratope': 6.621144738465175, 'para_ave_conf': 1.9250000000000003, 'rmsd_vague_paratope': 4.078442209777968, 'para_vague_ave_conf': 0.9994871794871794}, {'pdb': '7mzk', 'rmsd_paratope': 2.55066434116211, 'para_ave_conf': 0.55125, 'rmsd_vague_paratope': 1.5222584411996984, 'para_vague_ave_conf': 0.3891139240506329}, {'pdb': '7shz', 'rmsd_paratope': 1.523973188665281, 'para_ave_conf': 0.30666666666666664, 'rmsd_vague_paratope': 1.1036102069606204, 'para_vague_ave_conf': 0.23565789473684207}, {'pdb': '7r89', 'rmsd_paratope': 2.1257675013140642, 'para_ave_conf': 0.5100000000000001, 'rmsd_vague_paratope': 1.7805195852504736, 'para_vague_ave_conf': 0.38185714285714284}, {'pdb': '7lfa', 'rmsd_paratope': 0.6497421228195553, 'para_ave_conf': 0.4880952380952379, 'rmsd_vague_paratope': 0.523295955671723, 'para_vague_ave_conf': 0.37424657534246575}, {'pdb': '7kyo', 'rmsd_paratope': 1.9973826766461518, 'para_ave_conf': 0.5625, 'rmsd_vague_paratope': 1.372382908586934, 'para_vague_ave_conf': 0.40842105263157896}, {'pdb': '7o52', 'rmsd_paratope': 0.5782154115655652, 'para_ave_conf': 0.44478260869565217, 'rmsd_vague_paratope': 0.4478604244437303, 'para_vague_ave_conf': 0.3042666666666667}, {'pdb': '7mzj', 'rmsd_paratope': 2.9117527639012146, 'para_ave_conf': 0.9369565217391308, 'rmsd_vague_paratope': 2.121627352129365, 'para_vague_ave_conf': 0.8030769230769231}, {'pdb': '7lf7', 'rmsd_paratope': 0.4018715789861492, 'para_ave_conf': 0.4282352941176471, 'rmsd_vague_paratope': 0.3457609847812308, 'para_vague_ave_conf': 0.2743055555555556}, {'pdb': '7shu', 'rmsd_paratope': 1.705872199084412, 'para_ave_conf': 0.4894117647058824, 'rmsd_vague_paratope': 1.0903085474161107, 'para_vague_ave_conf': 0.2671052631578948}, {'pdb': '7e3o', 'rmsd_paratope': 2.2894598397945805, 'para_ave_conf': 0.7026666666666669, 'rmsd_vague_paratope': 1.7236010852110137, 'para_vague_ave_conf': 0.6128947368421053}, {'pdb': '7ps6', 'rmsd_paratope': 1.5962538819915983, 'para_ave_conf': 0.8177777777777778, 'rmsd_vague_paratope': 1.282373539284783, 'para_vague_ave_conf': 0.5868831168831169}, {'pdb': '7kql', 'rmsd_paratope': 1.659405175970646, 'para_ave_conf': 0.6943478260869567, 'rmsd_vague_paratope': 1.2988618220879402, 'para_vague_ave_conf': 0.5026666666666667}, {'pdb': '7bnv', 'rmsd_paratope': 6.26014130844186, 'para_ave_conf': 1.698125, 'rmsd_vague_paratope': 4.477966841836251, 'para_vague_ave_conf': 1.082962962962963}, {'pdb': '7ps1', 'rmsd_paratope': 0.8019911215780565, 'para_ave_conf': 0.3596551724137932, 'rmsd_vague_paratope': 0.6517661595520728, 'para_vague_ave_conf': 0.2836764705882353}, {'pdb': '7mrz', 'rmsd_paratope': 1.8325198929397792, 'para_ave_conf': 0.46320000000000006, 'rmsd_vague_paratope': 1.3363540242288658, 'para_vague_ave_conf': 0.3397402597402598}, {'pdb': '7dk2', 'rmsd_paratope': 3.6229051556112135, 'para_ave_conf': 0.49645161290322576, 'rmsd_vague_paratope': 3.9276878450412576, 'para_vague_ave_conf': 0.42478873239436626}, {'pdb': '7seg', 'rmsd_paratope': 1.1388636977881506, 'para_ave_conf': 0.5205263157894736, 'rmsd_vague_paratope': 0.8338080777672819, 'para_vague_ave_conf': 0.39577464788732397}, {'pdb': '7so9', 'rmsd_paratope': 0.3841656191117608, 'para_ave_conf': 0.8926086956521739, 'rmsd_vague_paratope': 0.3543035845540286, 'para_vague_ave_conf': 0.5468493150684932}, {'pdb': '7k7h', 'rmsd_paratope': 0.7056100603884569, 'para_ave_conf': 0.4707692307692307, 'rmsd_vague_paratope': 0.7010275610250511, 'para_vague_ave_conf': 0.3597333333333334}, {'pdb': '7ps0', 'rmsd_paratope': 2.4814795809855017, 'para_ave_conf': 0.7494444444444446, 'rmsd_vague_paratope': 2.265073943643126, 'para_vague_ave_conf': 0.5574358974358974}, {'pdb': '7n3c', 'rmsd_paratope': 0.6235442947279631, 'para_ave_conf': 0.6233333333333335, 'rmsd_vague_paratope': 0.5459039733604609, 'para_vague_ave_conf': 0.5128571428571428}, {'pdb': '7s4s', 'rmsd_paratope': 1.1782860327037823, 'para_ave_conf': 0.4470370370370372, 'rmsd_vague_paratope': 1.0989621535410656, 'para_vague_ave_conf': 0.35563380281690143}, {'pdb': '7kez', 'rmsd_paratope': 2.9872766448257875, 'para_ave_conf': 1.0768181818181821, 'rmsd_vague_paratope': 2.1411732980448166, 'para_vague_ave_conf': 0.6628205128205129}, {'pdb': '7n3d', 'rmsd_paratope': 1.1237316399115085, 'para_ave_conf': 0.8658823529411767, 'rmsd_vague_paratope': 0.6713051519762662, 'para_vague_ave_conf': 0.4247945205479452}, {'pdb': '7stz', 'rmsd_paratope': 0.6263973463293071, 'para_ave_conf': 0.39529411764705874, 'rmsd_vague_paratope': 0.5633041645615686, 'para_vague_ave_conf': 0.30907894736842106}, {'pdb': '7kf0', 'rmsd_paratope': 2.0043458152205, 'para_ave_conf': 0.6742105263157897, 'rmsd_vague_paratope': 1.5500915664370258, 'para_vague_ave_conf': 0.46893333333333337}, {'pdb': '7kf1', 'rmsd_paratope': 1.6799727875281765, 'para_ave_conf': 0.9961111111111111, 'rmsd_vague_paratope': 1.4551093688003585, 'para_vague_ave_conf': 0.6884210526315789}, {'pdb': '7phu', 'rmsd_paratope': 2.872502088876809, 'para_ave_conf': 0.7739285714285712, 'rmsd_vague_paratope': 2.1608452220392795, 'para_vague_ave_conf': 0.6044155844155845}, {'pdb': '6xsw', 'rmsd_paratope': 0.3233496159203098, 'para_ave_conf': 0.3534615384615385, 'rmsd_vague_paratope': 0.3151991624794401, 'para_vague_ave_conf': 0.28614285714285714}, {'pdb': '7s13', 'rmsd_paratope': 1.2288087599052406, 'para_ave_conf': 0.6086363636363636, 'rmsd_vague_paratope': 1.1226424179139916, 'para_vague_ave_conf': 0.522463768115942}]\n"
     ]
    }
   ],
   "source": [
    "print(records)"
   ],
   "metadata": {
    "collapsed": false,
    "pycharm": {
     "name": "#%%\n"
    }
   }
  },
  {
   "cell_type": "code",
   "execution_count": 31,
   "outputs": [],
   "source": [
    "abb2_antibody_rmsd_conf_df = pd.DataFrame.from_records(records)"
   ],
   "metadata": {
    "collapsed": false,
    "pycharm": {
     "name": "#%%\n"
    }
   }
  },
  {
   "cell_type": "code",
   "execution_count": 32,
   "outputs": [],
   "source": [
    "abb2_antibody_rmsd_conf_df.to_csv('../data/ABB2_antibody_rmsd_conf.csv')"
   ],
   "metadata": {
    "collapsed": false,
    "pycharm": {
     "name": "#%%\n"
    }
   }
  },
  {
   "cell_type": "code",
   "execution_count": null,
   "outputs": [],
   "source": [],
   "metadata": {
    "collapsed": false,
    "pycharm": {
     "name": "#%%\n"
    }
   }
  }
 ],
 "metadata": {
  "kernelspec": {
   "display_name": "Python 3",
   "language": "python",
   "name": "python3"
  },
  "language_info": {
   "codemirror_mode": {
    "name": "ipython",
    "version": 2
   },
   "file_extension": ".py",
   "mimetype": "text/x-python",
   "name": "python",
   "nbconvert_exporter": "python",
   "pygments_lexer": "ipython2",
   "version": "2.7.6"
  }
 },
 "nbformat": 4,
 "nbformat_minor": 0
}