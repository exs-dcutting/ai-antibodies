{
 "cells": [
  {
   "cell_type": "code",
   "execution_count": 34,
   "metadata": {
    "collapsed": true,
    "pycharm": {
     "name": "#%%\n"
    }
   },
   "outputs": [],
   "source": [
    "import traceback\n",
    "import warnings\n",
    "import pandas as pd\n",
    "from pathlib import Path\n",
    "\n",
    "from tqdm import tqdm\n",
    "\n",
    "from Bio.SVDSuperimposer import SVDSuperimposer\n",
    "from Bio.PDB import PDBParser\n",
    "import numpy as np\n",
    "\n",
    "atoms_list = {\n",
    "    \"backbone\": [\"N\", \"CA\", \"C\", \"O\"],\n",
    "    \"ca\": [\"CA\"]\n",
    "}"
   ]
  },
  {
   "cell_type": "code",
   "execution_count": 35,
   "outputs": [],
   "source": [
    "def get_paratope_confs(pdb_code: str, benchmark_folder: Path, cdr_epi_vague: bool = False):\n",
    "    parser = PDBParser()\n",
    "    native = benchmark_folder/f'{pdb_code}/{pdb_code}_true_complex.pdb'\n",
    "    model = benchmark_folder/f'{pdb_code}/ABodyBuilder2_{pdb_code}_antibody_model_imgt.pdb'\n",
    "\n",
    "    model_chains = {chain.id: chain for chain in parser.get_structure('model', model).get_chains()}\n",
    "    native_chains = {chain.id: chain for chain in parser.get_structure('native', native).get_chains()\n",
    "                     if chain.id in model_chains.keys()}\n",
    "\n",
    "    if set(native_chains.keys()) != set(model_chains.keys()):\n",
    "        raise ValueError(\"Model chain ids not equal to native chain ids.\")\n",
    "\n",
    "    paratope_def_nums = {chain_id: set() for chain_id in model_chains.keys()}\n",
    "    if cdr_epi_vague:\n",
    "        with open(benchmark_folder/f'{pdb_code}/{pdb_code}_residue_constraints_antibody.csv') as file:\n",
    "            file.readline()\n",
    "            for line in file:\n",
    "                words = line.strip().split(',')\n",
    "                if words[1][-1].isalpha():\n",
    "                    insert_code = words[1][-1]\n",
    "                    number = int(words[1][:-1])\n",
    "                else:\n",
    "                    insert_code = ' '\n",
    "                    number = int(words[1])\n",
    "                model_resname =  model_chains[words[0]][(' ', number, insert_code)].resname\n",
    "                if model_resname != words[2].upper() :\n",
    "                    raise ValueError(f\"For {pdb_code=}, chain id {words[0]} residue {number}{insert_code}, \"\n",
    "                                     f\"got mismatching residue to constraint, {model_resname=}, constraint={words[2]}\")\n",
    "                residue_key = (' ', number, insert_code)\n",
    "                if residue_key not in native_chains[words[0]].child_dict.keys():\n",
    "                    warnings.warn(f'For {pdb_code} and {cdr_epi_vague=} chain {words[0]} {residue_key} not found in native model')\n",
    "                    continue\n",
    "                paratope_def_nums[words[0]].add(residue_key)\n",
    "    else:\n",
    "        with open(benchmark_folder/f'{pdb_code}/{pdb_code}_constraint_pairs.txt') as file:\n",
    "            file.readline()\n",
    "            for line in file:\n",
    "                antibody_line = line.split(':')[0]\n",
    "                words = antibody_line.strip().split(',')\n",
    "                if words[1][-1].isalpha():\n",
    "                    insert_code = words[1][-1]\n",
    "                    number = int(words[1][:-1])\n",
    "                else:\n",
    "                    insert_code = ' '\n",
    "                    number = int(words[1])\n",
    "                model_resname =  model_chains[words[0]][(' ', number, insert_code)].resname\n",
    "                if model_resname != words[2].upper() :\n",
    "                    raise ValueError(f\"For {pdb_code=}, chain id {words[0]} residue {number}{insert_code}, \"\n",
    "                                     f\"got mismatching residue to constraint, {model_resname=}, constraint={words[2]}\")\n",
    "                residue_key = (' ', number, insert_code)\n",
    "                if residue_key not in native_chains[words[0]].child_dict.keys():\n",
    "                    warnings.warn(f'For {pdb_code} and {cdr_epi_vague=} chain {words[0]} {residue_key} not found in native model')\n",
    "                    continue\n",
    "                paratope_def_nums[words[0]].add(residue_key)\n",
    "\n",
    "    try:\n",
    "        native_paratope_atom_coords = [list(atom.coord)  for chain_id, residue_keys\n",
    "                                       in paratope_def_nums.items() for residue_key in residue_keys\n",
    "                                       for atom in native_chains[chain_id][residue_key]\n",
    "                                       if atom.get_id() in atoms_list['backbone']]\n",
    "\n",
    "        model_paratope_atom_coords = [list(atom.coord)  for chain_id, residue_keys\n",
    "                                       in paratope_def_nums.items() for residue_key in residue_keys\n",
    "                                       for atom in model_chains[chain_id][residue_key]\n",
    "                                       if atom.get_id() in atoms_list['backbone']]\n",
    "    except Exception as e:\n",
    "        print(traceback.format_exc())\n",
    "        raise ValueError(f\"For {pdb_code=} got error {e}\")\n",
    "\n",
    "    svd = SVDSuperimposer()\n",
    "    svd.set(np.array(native_paratope_atom_coords), np.array(model_paratope_atom_coords))\n",
    "    svd.run()\n",
    "    rmsd_para = svd.get_rms()\n",
    "\n",
    "    model_paratope_atom_conf = [atom.bfactor  for chain_id, residue_keys\n",
    "                                           in paratope_def_nums.items() for residue_key in residue_keys\n",
    "                                           for atom in model_chains[chain_id][residue_key]\n",
    "                                           if atom.get_id() in atoms_list['backbone']]\n",
    "\n",
    "    para_ave_conf = np.mean(model_paratope_atom_conf)\n",
    "    row = {'pdb': pdb_code, 'rmsd_paratope': rmsd_para, 'para_ave_conf': para_ave_conf}\n",
    "\n",
    "    return row"
   ],
   "metadata": {
    "collapsed": false,
    "pycharm": {
     "name": "#%%\n"
    }
   }
  },
  {
   "cell_type": "code",
   "execution_count": 36,
   "outputs": [
    {
     "name": "stderr",
     "output_type": "stream",
     "text": [
      " 13%|█▎        | 11/84 [00:02<00:11,  6.63it/s]/var/folders/z8/jlwrv8zn6h9fzlz4kqcsnq2m0000gq/T/ipykernel_32388/309903845.py:52: UserWarning: For 7mzm_H0-L0 and cdr_epi_vague=False chain H (' ', 111, 'E') not found in native model\n",
      "  warnings.warn(f'For {pdb_code} and {cdr_epi_vague=} chain {words[0]} {residue_key} not found in native model')\n",
      "/var/folders/z8/jlwrv8zn6h9fzlz4kqcsnq2m0000gq/T/ipykernel_32388/309903845.py:52: UserWarning: For 7mzm_H0-L0 and cdr_epi_vague=False chain H (' ', 111, 'F') not found in native model\n",
      "  warnings.warn(f'For {pdb_code} and {cdr_epi_vague=} chain {words[0]} {residue_key} not found in native model')\n",
      "/var/folders/z8/jlwrv8zn6h9fzlz4kqcsnq2m0000gq/T/ipykernel_32388/309903845.py:52: UserWarning: For 7mzm_H0-L0 and cdr_epi_vague=False chain H (' ', 112, 'F') not found in native model\n",
      "  warnings.warn(f'For {pdb_code} and {cdr_epi_vague=} chain {words[0]} {residue_key} not found in native model')\n",
      "/var/folders/z8/jlwrv8zn6h9fzlz4kqcsnq2m0000gq/T/ipykernel_32388/309903845.py:31: UserWarning: For 7mzm_H0-L0 and cdr_epi_vague=True chain H (' ', 111, 'E') not found in native model\n",
      "  warnings.warn(f'For {pdb_code} and {cdr_epi_vague=} chain {words[0]} {residue_key} not found in native model')\n",
      "/var/folders/z8/jlwrv8zn6h9fzlz4kqcsnq2m0000gq/T/ipykernel_32388/309903845.py:31: UserWarning: For 7mzm_H0-L0 and cdr_epi_vague=True chain H (' ', 111, 'F') not found in native model\n",
      "  warnings.warn(f'For {pdb_code} and {cdr_epi_vague=} chain {words[0]} {residue_key} not found in native model')\n",
      "/var/folders/z8/jlwrv8zn6h9fzlz4kqcsnq2m0000gq/T/ipykernel_32388/309903845.py:31: UserWarning: For 7mzm_H0-L0 and cdr_epi_vague=True chain H (' ', 112, 'F') not found in native model\n",
      "  warnings.warn(f'For {pdb_code} and {cdr_epi_vague=} chain {words[0]} {residue_key} not found in native model')\n",
      " 58%|█████▊    | 49/84 [00:10<00:06,  5.34it/s]/var/folders/z8/jlwrv8zn6h9fzlz4kqcsnq2m0000gq/T/ipykernel_32388/309903845.py:31: UserWarning: For 7kn4_H0-L0 and cdr_epi_vague=True chain H (' ', 31, ' ') not found in native model\n",
      "  warnings.warn(f'For {pdb_code} and {cdr_epi_vague=} chain {words[0]} {residue_key} not found in native model')\n",
      "/var/folders/z8/jlwrv8zn6h9fzlz4kqcsnq2m0000gq/T/ipykernel_32388/309903845.py:31: UserWarning: For 7kn4_H0-L0 and cdr_epi_vague=True chain H (' ', 34, ' ') not found in native model\n",
      "  warnings.warn(f'For {pdb_code} and {cdr_epi_vague=} chain {words[0]} {residue_key} not found in native model')\n",
      "/var/folders/z8/jlwrv8zn6h9fzlz4kqcsnq2m0000gq/T/ipykernel_32388/309903845.py:31: UserWarning: For 7kn4_H0-L0 and cdr_epi_vague=True chain H (' ', 35, ' ') not found in native model\n",
      "  warnings.warn(f'For {pdb_code} and {cdr_epi_vague=} chain {words[0]} {residue_key} not found in native model')\n",
      " 88%|████████▊ | 74/84 [00:14<00:01,  5.27it/s]/var/folders/z8/jlwrv8zn6h9fzlz4kqcsnq2m0000gq/T/ipykernel_32388/309903845.py:31: UserWarning: For 7coe_H0-L0 and cdr_epi_vague=True chain H (' ', 111, 'D') not found in native model\n",
      "  warnings.warn(f'For {pdb_code} and {cdr_epi_vague=} chain {words[0]} {residue_key} not found in native model')\n",
      "/var/folders/z8/jlwrv8zn6h9fzlz4kqcsnq2m0000gq/T/ipykernel_32388/309903845.py:31: UserWarning: For 7coe_H0-L0 and cdr_epi_vague=True chain H (' ', 111, 'E') not found in native model\n",
      "  warnings.warn(f'For {pdb_code} and {cdr_epi_vague=} chain {words[0]} {residue_key} not found in native model')\n",
      "100%|██████████| 84/84 [00:17<00:00,  4.87it/s]\n"
     ]
    }
   ],
   "source": [
    "records = []\n",
    "benchmark_folder = Path('../../benchmark_haddock_27_July_2024')\n",
    "for path in tqdm(list(benchmark_folder.iterdir())):\n",
    "    if path.is_dir():\n",
    "        pdb_code = path.name\n",
    "    else:\n",
    "        continue\n",
    "    try:\n",
    "        record = get_paratope_confs(pdb_code,benchmark_folder)\n",
    "        vague_para_record = get_paratope_confs(pdb_code,benchmark_folder,cdr_epi_vague=True)\n",
    "        record.update({'rmsd_vague_paratope': vague_para_record['rmsd_paratope'],\n",
    "                       'para_vague_ave_conf': vague_para_record['para_ave_conf']})\n",
    "        records.append(record)\n",
    "    except Exception as e:\n",
    "        print(f\"Got error {e} for {pdb_code=}.\")"
   ],
   "metadata": {
    "collapsed": false,
    "pycharm": {
     "name": "#%%\n"
    }
   }
  },
  {
   "cell_type": "code",
   "execution_count": 38,
   "outputs": [
    {
     "name": "stdout",
     "output_type": "stream",
     "text": [
      "[{'pdb': '7rfb_A0-B0', 'rmsd_paratope': 3.4276353690090215, 'para_ave_conf': 1.3023076923076924, 'rmsd_vague_paratope': 2.533765600163948, 'para_vague_ave_conf': 0.9035365853658537}, {'pdb': '7ps1_A0-B0', 'rmsd_paratope': 0.8221345756908988, 'para_ave_conf': 0.35965517241379297, 'rmsd_vague_paratope': 0.6657394513053291, 'para_vague_ave_conf': 0.2836764705882353}, {'pdb': '7kql_H0-L0', 'rmsd_paratope': 1.7402885918875601, 'para_ave_conf': 0.6943478260869566, 'rmsd_vague_paratope': 1.467130836094075, 'para_vague_ave_conf': 0.5026666666666667}, {'pdb': '7si0_I0-J0', 'rmsd_paratope': 1.6979439865258368, 'para_ave_conf': 0.31470588235294106, 'rmsd_vague_paratope': 1.1042709970541276, 'para_vague_ave_conf': 0.21789473684210525}, {'pdb': '7q0i_H0-L0', 'rmsd_paratope': 2.108229823664613, 'para_ave_conf': 1.1522222222222223, 'rmsd_vague_paratope': 1.6564223530307292, 'para_vague_ave_conf': 0.8725316455696204}, {'pdb': '7mzi_H0-L0', 'rmsd_paratope': 1.0951701539549537, 'para_ave_conf': 0.40571428571428575, 'rmsd_vague_paratope': 0.9583797167181854, 'para_vague_ave_conf': 0.3293055555555556}, {'pdb': '7k9j_H0-L0', 'rmsd_paratope': 1.1207685870896036, 'para_ave_conf': 0.5719047619047618, 'rmsd_vague_paratope': 1.1067960305704996, 'para_vague_ave_conf': 0.3457746478873239}, {'pdb': '7rah_B0-A0', 'rmsd_paratope': 0.5611886758363231, 'para_ave_conf': 0.36391304347826076, 'rmsd_vague_paratope': 0.45237170191439774, 'para_vague_ave_conf': 0.26499999999999996}, {'pdb': '7lr3_H0-L0', 'rmsd_paratope': 0.8102691387423252, 'para_ave_conf': 0.43052631578947365, 'rmsd_vague_paratope': 0.9301523701581208, 'para_vague_ave_conf': 0.37597014925373134}, {'pdb': '7qu2_A0-B0', 'rmsd_paratope': 1.4799545986460116, 'para_ave_conf': 0.7439130434782608, 'rmsd_vague_paratope': 1.2191117196490537, 'para_vague_ave_conf': 0.565657894736842}, {'pdb': '7mzm_H0-L0', 'rmsd_paratope': 4.004832140547643, 'para_ave_conf': 1.3833333333333335, 'rmsd_vague_paratope': 3.7916534704426734, 'para_vague_ave_conf': 1.3047560975609753}, {'pdb': '7kyo_H0-L0', 'rmsd_paratope': 1.432308178430807, 'para_ave_conf': 0.5625, 'rmsd_vague_paratope': 1.1218483821461063, 'para_vague_ave_conf': 0.40842105263157896}, {'pdb': '7b0b_H0-L0', 'rmsd_paratope': 0.5737057534220202, 'para_ave_conf': 0.6584210526315792, 'rmsd_vague_paratope': 0.5563304428625854, 'para_vague_ave_conf': 0.4152}, {'pdb': '7qny_A0-B0', 'rmsd_paratope': 3.220632548538211, 'para_ave_conf': 0.6358620689655174, 'rmsd_vague_paratope': 2.63730419751914, 'para_vague_ave_conf': 0.8512500000000001}, {'pdb': '7n4i_H0-L0', 'rmsd_paratope': 2.7930783681714444, 'para_ave_conf': 0.8457692307692306, 'rmsd_vague_paratope': 1.8858142665382949, 'para_vague_ave_conf': 0.4516666666666667}, {'pdb': '7k7h_H0-L0', 'rmsd_paratope': 0.8905349510888846, 'para_ave_conf': 0.47076923076923083, 'rmsd_vague_paratope': 0.8228229968363313, 'para_vague_ave_conf': 0.35973333333333335}, {'pdb': '7l7e_C0-D0', 'rmsd_paratope': 8.496845546923835, 'para_ave_conf': 1.1766666666666667, 'rmsd_vague_paratope': 5.892589230788713, 'para_vague_ave_conf': 0.9080459770114943}, {'pdb': '7msq_D0-E0', 'rmsd_paratope': 5.306810900694501, 'para_ave_conf': 1.925, 'rmsd_vague_paratope': 3.107585425910393, 'para_vague_ave_conf': 0.9994871794871794}, {'pdb': '7ps2_A0-B0', 'rmsd_paratope': 3.384610435740865, 'para_ave_conf': 0.8491304347826087, 'rmsd_vague_paratope': 2.741595590471418, 'para_vague_ave_conf': 0.6457647058823529}, {'pdb': '7s0b_A0-B0', 'rmsd_paratope': 1.7270094349155576, 'para_ave_conf': 0.5537500000000001, 'rmsd_vague_paratope': 1.1973690384494946, 'para_vague_ave_conf': 0.38430555555555557}, {'pdb': '7bbg_H0-L0', 'rmsd_paratope': 1.8715174034824664, 'para_ave_conf': 0.6822727272727274, 'rmsd_vague_paratope': 1.5073865400362938, 'para_vague_ave_conf': 0.3902857142857143}, {'pdb': '7r8l_H0-L0', 'rmsd_paratope': 0.7345111359194069, 'para_ave_conf': 0.3181818181818182, 'rmsd_vague_paratope': 0.6606234189739093, 'para_vague_ave_conf': 0.2645714285714286}, {'pdb': '7mzh_H0-L0', 'rmsd_paratope': 0.909078653068252, 'para_ave_conf': 0.38478260869565234, 'rmsd_vague_paratope': 0.6577484630220275, 'para_vague_ave_conf': 0.3327536231884058}, {'pdb': '7nx3_B0-C0', 'rmsd_paratope': 2.225927897035766, 'para_ave_conf': 0.5081818181818182, 'rmsd_vague_paratope': 1.3807157783869255, 'para_vague_ave_conf': 0.3114473684210526}, {'pdb': '7l7r_B0-A0', 'rmsd_paratope': 2.6314441867254277, 'para_ave_conf': 0.6384210526315789, 'rmsd_vague_paratope': 1.9787845152427233, 'para_vague_ave_conf': 0.4152173913043478}, {'pdb': '7q0g_A0-B0', 'rmsd_paratope': 3.385300097470447, 'para_ave_conf': 0.6395454545454545, 'rmsd_vague_paratope': 2.7015961594914355, 'para_vague_ave_conf': 0.44591549295774646}, {'pdb': '7phu_B0-C0', 'rmsd_paratope': 2.920826221729756, 'para_ave_conf': 0.7739285714285714, 'rmsd_vague_paratope': 2.214911792270647, 'para_vague_ave_conf': 0.6044155844155844}, {'pdb': '7seg_H0-L0', 'rmsd_paratope': 0.9493570175416094, 'para_ave_conf': 0.5205263157894737, 'rmsd_vague_paratope': 0.7582225839331868, 'para_vague_ave_conf': 0.39577464788732397}, {'pdb': '7s4s_H0-L0', 'rmsd_paratope': 1.6217738129853732, 'para_ave_conf': 0.44703703703703707, 'rmsd_vague_paratope': 1.4139586162574442, 'para_vague_ave_conf': 0.35563380281690143}, {'pdb': '7phw_B0-C0', 'rmsd_paratope': 4.983048402599532, 'para_ave_conf': 1.6879999999999995, 'rmsd_vague_paratope': 2.7739265187927638, 'para_vague_ave_conf': 0.9698648648648648}, {'pdb': '7lr4_H0-L0', 'rmsd_paratope': 2.5627305255360375, 'para_ave_conf': 0.8433333333333334, 'rmsd_vague_paratope': 1.5431087725451202, 'para_vague_ave_conf': 0.4927777777777778}, {'pdb': '7l7d_H0-L0', 'rmsd_paratope': 0.4155229649291514, 'para_ave_conf': 0.3347368421052632, 'rmsd_vague_paratope': 0.42368974075686217, 'para_vague_ave_conf': 0.2914473684210526}, {'pdb': '7l0l_H0-L0', 'rmsd_paratope': 2.204953384137331, 'para_ave_conf': 0.9191666666666666, 'rmsd_vague_paratope': 1.7230139326716536, 'para_vague_ave_conf': 0.5748648648648649}, {'pdb': '7mzj_H0-L0', 'rmsd_paratope': 1.8957577936536458, 'para_ave_conf': 0.9369565217391304, 'rmsd_vague_paratope': 1.383286093446459, 'para_vague_ave_conf': 0.8030769230769231}, {'pdb': '7qu1_A0-B0', 'rmsd_paratope': 1.8494306527761022, 'para_ave_conf': 0.6257142857142857, 'rmsd_vague_paratope': 0.9333402734788827, 'para_vague_ave_conf': 0.35887323943661975}, {'pdb': '7e72_A0-B0', 'rmsd_paratope': 1.057146326161511, 'para_ave_conf': 0.45521739130434785, 'rmsd_vague_paratope': 0.847383717158313, 'para_vague_ave_conf': 0.36303030303030304}, {'pdb': '7daa_H0-L0', 'rmsd_paratope': 1.31394406759053, 'para_ave_conf': 0.6485, 'rmsd_vague_paratope': 1.13629956402786, 'para_vague_ave_conf': 0.46217391304347827}, {'pdb': '7np1_H0-L0', 'rmsd_paratope': 3.6203161247014655, 'para_ave_conf': 0.8332000000000002, 'rmsd_vague_paratope': 3.0576641838059118, 'para_vague_ave_conf': 0.6346575342465753}, {'pdb': '7n4j_H0-L0', 'rmsd_paratope': 3.2936971873730854, 'para_ave_conf': 0.7684000000000003, 'rmsd_vague_paratope': 2.8801515887083267, 'para_vague_ave_conf': 0.7576136363636364}, {'pdb': '7dk2_A0-B0', 'rmsd_paratope': 3.590966592135234, 'para_ave_conf': 0.4964516129032259, 'rmsd_vague_paratope': 3.910873446717299, 'para_vague_ave_conf': 0.4247887323943662}, {'pdb': '7pr0_H0-L0', 'rmsd_paratope': 2.4026495751343644, 'para_ave_conf': 1.8886956521739129, 'rmsd_vague_paratope': 4.074303661978422, 'para_vague_ave_conf': 1.4266666666666665}, {'pdb': '7s13_H0-L0', 'rmsd_paratope': 1.2204850586473182, 'para_ave_conf': 0.6096666666666667, 'rmsd_vague_paratope': 1.173407272137693, 'para_vague_ave_conf': 0.5208695652173913}, {'pdb': '7l7r_D0-C0', 'rmsd_paratope': 2.0722783896920096, 'para_ave_conf': 0.8899999999999998, 'rmsd_vague_paratope': 1.3775370200177608, 'para_vague_ave_conf': 0.5594594594594595}, {'pdb': '7f7e_C0-L0', 'rmsd_paratope': 3.04709858483947, 'para_ave_conf': 1.4594117647058824, 'rmsd_vague_paratope': 2.9119229743540473, 'para_vague_ave_conf': 0.8200000000000001}, {'pdb': '7rk1_C0-C1', 'rmsd_paratope': 0.7400954626986748, 'para_ave_conf': 0.3290909090909091, 'rmsd_vague_paratope': 0.5570382304915502, 'para_vague_ave_conf': 0.3587096774193549}, {'pdb': '7s11_H0-L0', 'rmsd_paratope': 2.7655740334507537, 'para_ave_conf': 0.6140000000000001, 'rmsd_vague_paratope': 2.194770743124426, 'para_vague_ave_conf': 0.4602777777777778}, {'pdb': '7bnv_H0-L0', 'rmsd_paratope': 3.754266632278971, 'para_ave_conf': 1.698125, 'rmsd_vague_paratope': 2.706519964731956, 'para_vague_ave_conf': 1.082962962962963}, {'pdb': '7mzf_H0-L0', 'rmsd_paratope': 1.0744416716495027, 'para_ave_conf': 0.3796428571428571, 'rmsd_vague_paratope': 0.7783160599835853, 'para_vague_ave_conf': 0.2982352941176471}, {'pdb': '7kn4_H0-L0', 'rmsd_paratope': 1.5046210633819264, 'para_ave_conf': 0.5065, 'rmsd_vague_paratope': 1.6074650036245703, 'para_vague_ave_conf': 0.38236111111111115}, {'pdb': '7r89_C0-D0', 'rmsd_paratope': 1.569639978387656, 'para_ave_conf': 0.5099999999999999, 'rmsd_vague_paratope': 1.497010130432898, 'para_vague_ave_conf': 0.38185714285714284}, {'pdb': '7kf1_H0-L0', 'rmsd_paratope': 1.6200217669271366, 'para_ave_conf': 0.9961111111111111, 'rmsd_vague_paratope': 1.407962831200525, 'para_vague_ave_conf': 0.6884210526315789}, {'pdb': '7e3o_H0-L0', 'rmsd_paratope': 1.9452023394542937, 'para_ave_conf': 0.7026666666666669, 'rmsd_vague_paratope': 1.5652079516763175, 'para_vague_ave_conf': 0.6128947368421053}, {'pdb': '7lf7_A0-B0', 'rmsd_paratope': 0.544529914838223, 'para_ave_conf': 0.4282352941176471, 'rmsd_vague_paratope': 0.39363203400874364, 'para_vague_ave_conf': 0.2743055555555556}, {'pdb': '7mdj_A0-B0', 'rmsd_paratope': 1.2901028661033644, 'para_ave_conf': 0.6404761904761903, 'rmsd_vague_paratope': 1.2283481279714346, 'para_vague_ave_conf': 0.43434782608695655}, {'pdb': '7shu_E0-F0', 'rmsd_paratope': 1.6447396620026498, 'para_ave_conf': 0.4894117647058824, 'rmsd_vague_paratope': 1.064197778213852, 'para_vague_ave_conf': 0.2671052631578947}, {'pdb': '7kez_H0-L0', 'rmsd_paratope': 2.632969240596682, 'para_ave_conf': 1.0768181818181821, 'rmsd_vague_paratope': 2.0919817214236858, 'para_vague_ave_conf': 0.6628205128205129}, {'pdb': '7lfa_B0-D0', 'rmsd_paratope': 0.5654030119122628, 'para_ave_conf': 0.488095238095238, 'rmsd_vague_paratope': 0.5677935808064458, 'para_vague_ave_conf': 0.37424657534246575}, {'pdb': '7ps6_H0-L0', 'rmsd_paratope': 1.5290400675271065, 'para_ave_conf': 0.8177777777777776, 'rmsd_vague_paratope': 1.211501346868503, 'para_vague_ave_conf': 0.5868831168831169}, {'pdb': '7mrz_X0-Y0', 'rmsd_paratope': 2.0306384577471057, 'para_ave_conf': 0.46319999999999995, 'rmsd_vague_paratope': 1.4159175892507445, 'para_vague_ave_conf': 0.3397402597402598}, {'pdb': '7lfb_H0-L0', 'rmsd_paratope': 1.0181408798824658, 'para_ave_conf': 0.7336000000000001, 'rmsd_vague_paratope': 0.7104041878731348, 'para_vague_ave_conf': 0.49263888888888885}, {'pdb': '7sem_B0-C0', 'rmsd_paratope': 0.8501315328328971, 'para_ave_conf': 0.73, 'rmsd_vague_paratope': 0.663205810038692, 'para_vague_ave_conf': 0.4784810126582279}, {'pdb': '7rk2_C0-C1', 'rmsd_paratope': 1.372887598317117, 'para_ave_conf': 0.47956521739130425, 'rmsd_vague_paratope': 0.9452532084472676, 'para_vague_ave_conf': 0.36952380952380953}, {'pdb': '7qnw_A0-B0', 'rmsd_paratope': 2.0395693386586173, 'para_ave_conf': 2.0081249999999997, 'rmsd_vague_paratope': 2.2991099447783374, 'para_vague_ave_conf': 0.8777215189873419}, {'pdb': '7mzk_N0-M0', 'rmsd_paratope': 2.4123391231203652, 'para_ave_conf': 0.55125, 'rmsd_vague_paratope': 1.3554542420217957, 'para_vague_ave_conf': 0.3891139240506329}, {'pdb': '7kn3_H0-L0', 'rmsd_paratope': 1.0805224754894467, 'para_ave_conf': 0.3664, 'rmsd_vague_paratope': 0.8392522687450796, 'para_vague_ave_conf': 0.2704109589041096}, {'pdb': '7rah_D0-C0', 'rmsd_paratope': 1.7053603242702617, 'para_ave_conf': 0.6200000000000001, 'rmsd_vague_paratope': 1.2085043704998557, 'para_vague_ave_conf': 0.4445333333333334}, {'pdb': '7soe_B0-L0', 'rmsd_paratope': 2.4809094936053637, 'para_ave_conf': 1.0166666666666666, 'rmsd_vague_paratope': 1.9047052214847944, 'para_vague_ave_conf': 0.5481578947368422}, {'pdb': '7ps4_H0-L0', 'rmsd_paratope': 3.9294582835660212, 'para_ave_conf': 1.415714285714286, 'rmsd_vague_paratope': 2.6905092469237086, 'para_vague_ave_conf': 0.85}, {'pdb': '7shz_K0-L0', 'rmsd_paratope': 1.5234533884340122, 'para_ave_conf': 0.30666666666666675, 'rmsd_vague_paratope': 1.1031002917237736, 'para_vague_ave_conf': 0.2356578947368421}, {'pdb': '7ps0_H0-L0', 'rmsd_paratope': 2.5181953141239233, 'para_ave_conf': 0.7494444444444445, 'rmsd_vague_paratope': 2.3371570473137537, 'para_vague_ave_conf': 0.5574358974358975}, {'pdb': '7bbj_H0-L0', 'rmsd_paratope': 0.9982404103329454, 'para_ave_conf': 0.4086956521739131, 'rmsd_vague_paratope': 0.7340667660214554, 'para_vague_ave_conf': 0.2985294117647058}, {'pdb': '7vux_H0-L0', 'rmsd_paratope': 0.5161723818143881, 'para_ave_conf': 0.33925925925925937, 'rmsd_vague_paratope': 0.44418293267271985, 'para_vague_ave_conf': 0.29367647058823526}, {'pdb': '7vmu_A0-A1', 'rmsd_paratope': 0.9679019244547347, 'para_ave_conf': 0.43193548387096786, 'rmsd_vague_paratope': 0.7887861984432842, 'para_vague_ave_conf': 0.3277049180327869}, {'pdb': '7coe_H0-L0', 'rmsd_paratope': 2.406571829935893, 'para_ave_conf': 1.3255, 'rmsd_vague_paratope': 1.6861434668073025, 'para_vague_ave_conf': 1.0281481481481483}, {'pdb': '7ps6_C0-D0', 'rmsd_paratope': 0.8746343333007558, 'para_ave_conf': 0.5638888888888889, 'rmsd_vague_paratope': 0.7022761447554869, 'para_vague_ave_conf': 0.36797297297297304}, {'pdb': '7q0g_H0-L0', 'rmsd_paratope': 2.600831569259731, 'para_ave_conf': 0.3995652173913044, 'rmsd_vague_paratope': 1.913077334681407, 'para_vague_ave_conf': 0.3055882352941176}, {'pdb': '7mzg_H0-L0', 'rmsd_paratope': 1.3051854758580212, 'para_ave_conf': 0.584642857142857, 'rmsd_vague_paratope': 1.1996482083693618, 'para_vague_ave_conf': 0.41214285714285714}, {'pdb': '7pi7_B0-C0', 'rmsd_paratope': 0.892140345265378, 'para_ave_conf': 0.4636666666666667, 'rmsd_vague_paratope': 0.8409062008926897, 'para_vague_ave_conf': 0.37742857142857145}, {'pdb': '7e5o_H0-L0', 'rmsd_paratope': 1.4735835120489764, 'para_ave_conf': 0.6335714285714287, 'rmsd_vague_paratope': 1.188292966051686, 'para_vague_ave_conf': 0.4808450704225352}, {'pdb': '7n3i_H0-L0', 'rmsd_paratope': 1.1507332102271535, 'para_ave_conf': 0.36625, 'rmsd_vague_paratope': 0.9856513435692152, 'para_vague_ave_conf': 0.3005714285714286}, {'pdb': '7ps2_H0-L0', 'rmsd_paratope': 3.1887038646487356, 'para_ave_conf': 0.8815999999999999, 'rmsd_vague_paratope': 2.4373357762391885, 'para_vague_ave_conf': 0.5031506849315069}, {'pdb': '7rks_H0-L0', 'rmsd_paratope': 4.2158473963056995, 'para_ave_conf': 1.155909090909091, 'rmsd_vague_paratope': 3.271276777321286, 'para_vague_ave_conf': 0.8281927710843374}, {'pdb': '7kf0_H0-L0', 'rmsd_paratope': 1.971337776334312, 'para_ave_conf': 0.65, 'rmsd_vague_paratope': 1.5216147866793819, 'para_vague_ave_conf': 0.46893333333333337}]\n"
     ]
    }
   ],
   "source": [
    "print(records)"
   ],
   "metadata": {
    "collapsed": false,
    "pycharm": {
     "name": "#%%\n"
    }
   }
  },
  {
   "cell_type": "code",
   "execution_count": 39,
   "outputs": [],
   "source": [
    "abb2_antibody_rmsd_conf_df = pd.DataFrame.from_records(records)"
   ],
   "metadata": {
    "collapsed": false,
    "pycharm": {
     "name": "#%%\n"
    }
   }
  },
  {
   "cell_type": "code",
   "execution_count": 40,
   "outputs": [
    {
     "data": {
      "text/plain": "           pdb  rmsd_paratope  para_ave_conf  rmsd_vague_paratope  \\\n0   7rfb_A0-B0       3.427635       1.302308             2.533766   \n1   7ps1_A0-B0       0.822135       0.359655             0.665739   \n2   7kql_H0-L0       1.740289       0.694348             1.467131   \n3   7si0_I0-J0       1.697944       0.314706             1.104271   \n4   7q0i_H0-L0       2.108230       1.152222             1.656422   \n..         ...            ...            ...                  ...   \n78  7e5o_H0-L0       1.473584       0.633571             1.188293   \n79  7n3i_H0-L0       1.150733       0.366250             0.985651   \n80  7ps2_H0-L0       3.188704       0.881600             2.437336   \n81  7rks_H0-L0       4.215847       1.155909             3.271277   \n82  7kf0_H0-L0       1.971338       0.650000             1.521615   \n\n    para_vague_ave_conf  \n0              0.903537  \n1              0.283676  \n2              0.502667  \n3              0.217895  \n4              0.872532  \n..                  ...  \n78             0.480845  \n79             0.300571  \n80             0.503151  \n81             0.828193  \n82             0.468933  \n\n[83 rows x 5 columns]",
      "text/html": "<div>\n<style scoped>\n    .dataframe tbody tr th:only-of-type {\n        vertical-align: middle;\n    }\n\n    .dataframe tbody tr th {\n        vertical-align: top;\n    }\n\n    .dataframe thead th {\n        text-align: right;\n    }\n</style>\n<table border=\"1\" class=\"dataframe\">\n  <thead>\n    <tr style=\"text-align: right;\">\n      <th></th>\n      <th>pdb</th>\n      <th>rmsd_paratope</th>\n      <th>para_ave_conf</th>\n      <th>rmsd_vague_paratope</th>\n      <th>para_vague_ave_conf</th>\n    </tr>\n  </thead>\n  <tbody>\n    <tr>\n      <th>0</th>\n      <td>7rfb_A0-B0</td>\n      <td>3.427635</td>\n      <td>1.302308</td>\n      <td>2.533766</td>\n      <td>0.903537</td>\n    </tr>\n    <tr>\n      <th>1</th>\n      <td>7ps1_A0-B0</td>\n      <td>0.822135</td>\n      <td>0.359655</td>\n      <td>0.665739</td>\n      <td>0.283676</td>\n    </tr>\n    <tr>\n      <th>2</th>\n      <td>7kql_H0-L0</td>\n      <td>1.740289</td>\n      <td>0.694348</td>\n      <td>1.467131</td>\n      <td>0.502667</td>\n    </tr>\n    <tr>\n      <th>3</th>\n      <td>7si0_I0-J0</td>\n      <td>1.697944</td>\n      <td>0.314706</td>\n      <td>1.104271</td>\n      <td>0.217895</td>\n    </tr>\n    <tr>\n      <th>4</th>\n      <td>7q0i_H0-L0</td>\n      <td>2.108230</td>\n      <td>1.152222</td>\n      <td>1.656422</td>\n      <td>0.872532</td>\n    </tr>\n    <tr>\n      <th>...</th>\n      <td>...</td>\n      <td>...</td>\n      <td>...</td>\n      <td>...</td>\n      <td>...</td>\n    </tr>\n    <tr>\n      <th>78</th>\n      <td>7e5o_H0-L0</td>\n      <td>1.473584</td>\n      <td>0.633571</td>\n      <td>1.188293</td>\n      <td>0.480845</td>\n    </tr>\n    <tr>\n      <th>79</th>\n      <td>7n3i_H0-L0</td>\n      <td>1.150733</td>\n      <td>0.366250</td>\n      <td>0.985651</td>\n      <td>0.300571</td>\n    </tr>\n    <tr>\n      <th>80</th>\n      <td>7ps2_H0-L0</td>\n      <td>3.188704</td>\n      <td>0.881600</td>\n      <td>2.437336</td>\n      <td>0.503151</td>\n    </tr>\n    <tr>\n      <th>81</th>\n      <td>7rks_H0-L0</td>\n      <td>4.215847</td>\n      <td>1.155909</td>\n      <td>3.271277</td>\n      <td>0.828193</td>\n    </tr>\n    <tr>\n      <th>82</th>\n      <td>7kf0_H0-L0</td>\n      <td>1.971338</td>\n      <td>0.650000</td>\n      <td>1.521615</td>\n      <td>0.468933</td>\n    </tr>\n  </tbody>\n</table>\n<p>83 rows × 5 columns</p>\n</div>"
     },
     "execution_count": 40,
     "metadata": {},
     "output_type": "execute_result"
    }
   ],
   "source": [
    "abb2_antibody_rmsd_conf_df"
   ],
   "metadata": {
    "collapsed": false,
    "pycharm": {
     "name": "#%%\n"
    }
   }
  },
  {
   "cell_type": "code",
   "execution_count": 41,
   "outputs": [],
   "source": [
    "abb2_antibody_rmsd_conf_df.to_csv('../data/ABB2_antibody_rmsd_conf.csv')"
   ],
   "metadata": {
    "collapsed": false,
    "pycharm": {
     "name": "#%%\n"
    }
   }
  },
  {
   "cell_type": "code",
   "execution_count": null,
   "outputs": [],
   "source": [],
   "metadata": {
    "collapsed": false,
    "pycharm": {
     "name": "#%%\n"
    }
   }
  }
 ],
 "metadata": {
  "kernelspec": {
   "display_name": "Python 3",
   "language": "python",
   "name": "python3"
  },
  "language_info": {
   "codemirror_mode": {
    "name": "ipython",
    "version": 2
   },
   "file_extension": ".py",
   "mimetype": "text/x-python",
   "name": "python",
   "nbconvert_exporter": "python",
   "pygments_lexer": "ipython2",
   "version": "2.7.6"
  }
 },
 "nbformat": 4,
 "nbformat_minor": 0
}