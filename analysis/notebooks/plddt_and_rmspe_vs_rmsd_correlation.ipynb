{
 "cells": [
  {
   "cell_type": "code",
   "execution_count": 24,
   "metadata": {
    "collapsed": true,
    "pycharm": {
     "name": "#%%\n"
    }
   },
   "outputs": [],
   "source": [
    "from scipy.stats import pearsonr, spearmanr, kendalltau\n",
    "import pandas as pd"
   ]
  },
  {
   "cell_type": "code",
   "execution_count": 26,
   "outputs": [],
   "source": [
    "plddt_paratope_df = pd.read_csv('../data/AF2_antibody_rmsd_plddt.csv',sep='\\t')\n",
    "plddt_epitope_df = pd.read_csv('../data/AF2_antigen_rmsd_plddt.csv',sep='\\t')\n",
    "rmspe_paratope_df = pd.read_csv('../data/ABB2_antibody_rmsd_conf.csv',sep='\\t')\n",
    "paratope_rmsd_df = pd.read_csv('../data/paratope_rmsds.csv')\n",
    "epitope_rmsd_df = pd.read_csv('../data/AF2_antigen_rmsd.csv')"
   ],
   "metadata": {
    "collapsed": false,
    "pycharm": {
     "name": "#%%\n"
    }
   }
  },
  {
   "cell_type": "code",
   "execution_count": 28,
   "outputs": [],
   "source": [
    "af2_paratope_plddt_rmsd_df = plddt_paratope_df.merge(paratope_rmsd_df.query('model==\"AF2\"'), on='pdb')"
   ],
   "metadata": {
    "collapsed": false,
    "pycharm": {
     "name": "#%%\n"
    }
   }
  },
  {
   "cell_type": "code",
   "execution_count": 29,
   "outputs": [
    {
     "data": {
      "text/plain": "PearsonRResult(statistic=-0.4157154349059303, pvalue=0.00013895075213507367)"
     },
     "execution_count": 29,
     "metadata": {},
     "output_type": "execute_result"
    }
   ],
   "source": [
    "pearsonr(af2_paratope_plddt_rmsd_df['para-ave-plddt'], af2_paratope_plddt_rmsd_df['rmsd_paratope'])"
   ],
   "metadata": {
    "collapsed": false,
    "pycharm": {
     "name": "#%%\n"
    }
   }
  },
  {
   "cell_type": "code",
   "execution_count": 30,
   "outputs": [],
   "source": [
    "af2_epitope_plddt_rmsd_df = plddt_epitope_df.merge(epitope_rmsd_df, on='pdb')\n"
   ],
   "metadata": {
    "collapsed": false,
    "pycharm": {
     "name": "#%%\n"
    }
   }
  },
  {
   "cell_type": "code",
   "execution_count": 34,
   "outputs": [
    {
     "data": {
      "text/plain": "PearsonRResult(statistic=-0.6266244355469017, pvalue=6.521131457911354e-10)"
     },
     "execution_count": 34,
     "metadata": {},
     "output_type": "execute_result"
    }
   ],
   "source": [
    "pearsonr(af2_epitope_plddt_rmsd_df['epi-ave-plddt'], af2_epitope_plddt_rmsd_df['rmsd_epitope_y'])\n"
   ],
   "metadata": {
    "collapsed": false,
    "pycharm": {
     "name": "#%%\n"
    }
   }
  },
  {
   "cell_type": "code",
   "execution_count": 35,
   "outputs": [],
   "source": [
    "abb2_paratope_rmspe_rmsd_df = rmspe_paratope_df.merge(paratope_rmsd_df.query('model==\"ABodyBuilder2\"'), on='pdb')"
   ],
   "metadata": {
    "collapsed": false,
    "pycharm": {
     "name": "#%%\n"
    }
   }
  },
  {
   "cell_type": "code",
   "execution_count": 36,
   "outputs": [
    {
     "data": {
      "text/plain": "PearsonRResult(statistic=0.292559168515473, pvalue=0.008886562660714433)"
     },
     "execution_count": 36,
     "metadata": {},
     "output_type": "execute_result"
    }
   ],
   "source": [
    "pearsonr(abb2_paratope_rmspe_rmsd_df['para-ave-conf'], abb2_paratope_rmspe_rmsd_df['rmsd_paratope'])"
   ],
   "metadata": {
    "collapsed": false,
    "pycharm": {
     "name": "#%%\n"
    }
   }
  },
  {
   "cell_type": "code",
   "execution_count": null,
   "outputs": [],
   "source": [],
   "metadata": {
    "collapsed": false,
    "pycharm": {
     "name": "#%%\n"
    }
   }
  }
 ],
 "metadata": {
  "kernelspec": {
   "display_name": "Python 3",
   "language": "python",
   "name": "python3"
  },
  "language_info": {
   "codemirror_mode": {
    "name": "ipython",
    "version": 2
   },
   "file_extension": ".py",
   "mimetype": "text/x-python",
   "name": "python",
   "nbconvert_exporter": "python",
   "pygments_lexer": "ipython2",
   "version": "2.7.6"
  }
 },
 "nbformat": 4,
 "nbformat_minor": 0
}