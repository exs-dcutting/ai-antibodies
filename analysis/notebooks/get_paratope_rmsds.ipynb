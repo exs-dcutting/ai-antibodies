{
 "cells": [
  {
   "cell_type": "code",
   "execution_count": 31,
   "outputs": [],
   "source": [
    "from pathlib import Path\n",
    "import traceback\n",
    "import pandas as pd\n",
    "from tqdm import tqdm"
   ],
   "metadata": {
    "collapsed": false,
    "pycharm": {
     "name": "#%%\n"
    }
   }
  },
  {
   "cell_type": "code",
   "execution_count": 32,
   "outputs": [],
   "source": [
    "from Bio.SVDSuperimposer import SVDSuperimposer\n",
    "from Bio.PDB import PDBParser\n",
    "import numpy as np\n",
    "\n",
    "atoms_list = {\n",
    "    \"backbone\": [\"N\", \"CA\", \"C\", \"O\"],\n",
    "}\n",
    "\n",
    "\n",
    "\n",
    "def get_paratope_rmsds(pdb_code: str, model_name: str, benchmark_folder: Path):\n",
    "    parser = PDBParser()\n",
    "    native = benchmark_folder/f'{pdb_code}/{pdb_code}_true_complex.pdb'\n",
    "    if 'ensemble' in model_name:\n",
    "        model_type = model_name.split('_')[0]\n",
    "        rank = model_name.split(\"_\")[-1]\n",
    "        if 'ABB2' in model_name:\n",
    "            model = benchmark_folder/f'{pdb_code}/{model_type}_ensemble_models_{pdb_code}/{rank}_refined.pdb'\n",
    "        else:\n",
    "            model = benchmark_folder/f'{pdb_code}/{model_type}_ensemble_models_{pdb_code}/{pdb_code}_rank_{rank}.pdb'\n",
    "    else:\n",
    "        model = benchmark_folder/f'{pdb_code}/{model_name}_{pdb_code}_antibody_model_imgt.pdb'\n",
    "\n",
    "    model_chains = {chain.id: chain for chain in parser.get_structure('model', model).get_chains()}\n",
    "    native_chains = {chain.id: chain for chain in parser.get_structure('native', native).get_chains()\n",
    "                     if chain.id in model_chains.keys()}\n",
    "\n",
    "    if set(native_chains.keys()) != set(model_chains.keys()):\n",
    "        raise ValueError(\"Model chain ids not equal to native chain ids.\")\n",
    "\n",
    "    paratope_def_nums = {chain_id: set() for chain_id in model_chains.keys()}\n",
    "\n",
    "    with open(benchmark_folder/f'{pdb_code}/{pdb_code}_constraint_pairs.txt') as file:\n",
    "        file.readline()\n",
    "        for line in file:\n",
    "            antibody_line = line.split(':')[0]\n",
    "            words = antibody_line.strip().split(',')\n",
    "            if words[1][-1].isalpha():\n",
    "                insert_code = words[1][-1]\n",
    "                number = int(words[1][:-1])\n",
    "            else:\n",
    "                insert_code = ' '\n",
    "                number = int(words[1])\n",
    "            paratope_def_nums[words[0]].add((' ', number, insert_code))\n",
    "            model_resname =  model_chains[words[0]][(' ', number, insert_code)].resname\n",
    "            if model_resname != words[2].upper() :\n",
    "                raise ValueError(f\"For {pdb_code=}, chain id {words[0]} residue {number}{insert_code}, \"\n",
    "                                 f\"got mismatching residue to constraint, {model_resname=}, constraint={words[2]}\")\n",
    "\n",
    "    try:\n",
    "        native_paratope_atom_coords = [list(atom.coord)  for chain_id, residue_keys\n",
    "                                       in paratope_def_nums.items() for residue_key in residue_keys\n",
    "                                       for atom in native_chains[chain_id][residue_key]\n",
    "                                       if atom.get_id() in atoms_list['backbone']]\n",
    "\n",
    "        model_paratope_atom_coords = [list(atom.coord)  for chain_id, residue_keys\n",
    "                                       in paratope_def_nums.items() for residue_key in residue_keys\n",
    "                                       for atom in model_chains[chain_id][residue_key]\n",
    "                                       if atom.get_id() in atoms_list['backbone']]\n",
    "    except Exception as e:\n",
    "        print(traceback.format_exc())\n",
    "        raise ValueError(f\"For {pdb_code=}, {model_name=}, got error {e}\")\n",
    "\n",
    "\n",
    "    svd = SVDSuperimposer()\n",
    "    svd.set(np.array(native_paratope_atom_coords), np.array(model_paratope_atom_coords))\n",
    "    svd.run()\n",
    "    rmsd_para = svd.get_rms()\n",
    "    row = {'pdb': pdb_code, 'model': model_name, 'rmsd_paratope': rmsd_para}\n",
    "\n",
    "    return row"
   ],
   "metadata": {
    "collapsed": false,
    "pycharm": {
     "name": "#%%\n"
    }
   }
  },
  {
   "cell_type": "code",
   "execution_count": 33,
   "outputs": [
    {
     "name": "stderr",
     "output_type": "stream",
     "text": [
      "  0%|          | 0/84 [00:00<?, ?it/s]"
     ]
    },
    {
     "name": "stdout",
     "output_type": "stream",
     "text": [
      "7rfb_A0-B0\n"
     ]
    },
    {
     "name": "stderr",
     "output_type": "stream",
     "text": [
      "  1%|          | 1/84 [00:02<03:32,  2.56s/it]"
     ]
    },
    {
     "name": "stdout",
     "output_type": "stream",
     "text": [
      "7ps1_A0-B0\n"
     ]
    },
    {
     "name": "stderr",
     "output_type": "stream",
     "text": [
      "  2%|▏         | 2/84 [00:05<03:33,  2.60s/it]"
     ]
    },
    {
     "name": "stdout",
     "output_type": "stream",
     "text": [
      "7kql_H0-L0\n"
     ]
    },
    {
     "name": "stderr",
     "output_type": "stream",
     "text": [
      "  4%|▎         | 3/84 [00:07<03:27,  2.56s/it]"
     ]
    },
    {
     "name": "stdout",
     "output_type": "stream",
     "text": [
      "7si0_I0-J0\n"
     ]
    },
    {
     "name": "stderr",
     "output_type": "stream",
     "text": [
      "  5%|▍         | 4/84 [00:09<03:04,  2.31s/it]"
     ]
    },
    {
     "name": "stdout",
     "output_type": "stream",
     "text": [
      "7q0i_H0-L0\n"
     ]
    },
    {
     "name": "stderr",
     "output_type": "stream",
     "text": [
      "  6%|▌         | 5/84 [00:11<02:45,  2.09s/it]"
     ]
    },
    {
     "name": "stdout",
     "output_type": "stream",
     "text": [
      "7mzi_H0-L0\n"
     ]
    },
    {
     "name": "stderr",
     "output_type": "stream",
     "text": [
      "  7%|▋         | 6/84 [00:13<02:32,  1.95s/it]"
     ]
    },
    {
     "name": "stdout",
     "output_type": "stream",
     "text": [
      "7k9j_H0-L0\n"
     ]
    },
    {
     "name": "stderr",
     "output_type": "stream",
     "text": [
      "  8%|▊         | 7/84 [00:15<02:50,  2.22s/it]"
     ]
    },
    {
     "name": "stdout",
     "output_type": "stream",
     "text": [
      "7rah_B0-A0\n"
     ]
    },
    {
     "name": "stderr",
     "output_type": "stream",
     "text": [
      " 10%|▉         | 8/84 [00:17<02:34,  2.03s/it]"
     ]
    },
    {
     "name": "stdout",
     "output_type": "stream",
     "text": [
      "7lr3_H0-L0\n"
     ]
    },
    {
     "name": "stderr",
     "output_type": "stream",
     "text": [
      " 12%|█▏        | 10/84 [00:18<01:44,  1.42s/it]"
     ]
    },
    {
     "name": "stdout",
     "output_type": "stream",
     "text": [
      "7qu2_A0-B0\n"
     ]
    },
    {
     "name": "stderr",
     "output_type": "stream",
     "text": [
      " 13%|█▎        | 11/84 [00:20<01:42,  1.40s/it]"
     ]
    },
    {
     "name": "stdout",
     "output_type": "stream",
     "text": [
      "7mzm_H0-L0\n",
      "Traceback (most recent call last):\n",
      "  File \"/var/folders/z8/jlwrv8zn6h9fzlz4kqcsnq2m0000gq/T/ipykernel_49478/313181647.py\", line 51, in get_paratope_rmsds\n",
      "    native_paratope_atom_coords = [list(atom.coord)  for chain_id, residue_keys\n",
      "  File \"/var/folders/z8/jlwrv8zn6h9fzlz4kqcsnq2m0000gq/T/ipykernel_49478/313181647.py\", line 53, in <listcomp>\n",
      "    for atom in native_chains[chain_id][residue_key]\n",
      "  File \"/Users/dcutting/Projects/ai-antibodies/.venv/lib/python3.10/site-packages/Bio/PDB/Chain.py\", line 108, in __getitem__\n",
      "    return Entity.__getitem__(self, id)\n",
      "  File \"/Users/dcutting/Projects/ai-antibodies/.venv/lib/python3.10/site-packages/Bio/PDB/Entity.py\", line 45, in __getitem__\n",
      "    return self.child_dict[id]\n",
      "KeyError: (' ', 111, 'E')\n",
      "\n",
      "Got error For pdb_code='7mzm_H0-L0', model_name='ABodyBuilder2', got error (' ', 111, 'E') for pdb_code='7mzm_H0-L0', model_name='ABodyBuilder2'.\n",
      "Traceback (most recent call last):\n",
      "  File \"/var/folders/z8/jlwrv8zn6h9fzlz4kqcsnq2m0000gq/T/ipykernel_49478/313181647.py\", line 51, in get_paratope_rmsds\n",
      "    native_paratope_atom_coords = [list(atom.coord)  for chain_id, residue_keys\n",
      "  File \"/var/folders/z8/jlwrv8zn6h9fzlz4kqcsnq2m0000gq/T/ipykernel_49478/313181647.py\", line 53, in <listcomp>\n",
      "    for atom in native_chains[chain_id][residue_key]\n",
      "  File \"/Users/dcutting/Projects/ai-antibodies/.venv/lib/python3.10/site-packages/Bio/PDB/Chain.py\", line 108, in __getitem__\n",
      "    return Entity.__getitem__(self, id)\n",
      "  File \"/Users/dcutting/Projects/ai-antibodies/.venv/lib/python3.10/site-packages/Bio/PDB/Entity.py\", line 45, in __getitem__\n",
      "    return self.child_dict[id]\n",
      "KeyError: (' ', 111, 'E')\n",
      "\n",
      "Got error For pdb_code='7mzm_H0-L0', model_name='ABlooper', got error (' ', 111, 'E') for pdb_code='7mzm_H0-L0', model_name='ABlooper'.\n",
      "Traceback (most recent call last):\n",
      "  File \"/var/folders/z8/jlwrv8zn6h9fzlz4kqcsnq2m0000gq/T/ipykernel_49478/313181647.py\", line 51, in get_paratope_rmsds\n",
      "    native_paratope_atom_coords = [list(atom.coord)  for chain_id, residue_keys\n",
      "  File \"/var/folders/z8/jlwrv8zn6h9fzlz4kqcsnq2m0000gq/T/ipykernel_49478/313181647.py\", line 53, in <listcomp>\n",
      "    for atom in native_chains[chain_id][residue_key]\n",
      "  File \"/Users/dcutting/Projects/ai-antibodies/.venv/lib/python3.10/site-packages/Bio/PDB/Chain.py\", line 108, in __getitem__\n",
      "    return Entity.__getitem__(self, id)\n",
      "  File \"/Users/dcutting/Projects/ai-antibodies/.venv/lib/python3.10/site-packages/Bio/PDB/Entity.py\", line 45, in __getitem__\n",
      "    return self.child_dict[id]\n",
      "KeyError: (' ', 111, 'E')\n",
      "\n",
      "Got error For pdb_code='7mzm_H0-L0', model_name='AF2', got error (' ', 111, 'E') for pdb_code='7mzm_H0-L0', model_name='AF2'.\n",
      "Traceback (most recent call last):\n",
      "  File \"/var/folders/z8/jlwrv8zn6h9fzlz4kqcsnq2m0000gq/T/ipykernel_49478/313181647.py\", line 51, in get_paratope_rmsds\n",
      "    native_paratope_atom_coords = [list(atom.coord)  for chain_id, residue_keys\n",
      "  File \"/var/folders/z8/jlwrv8zn6h9fzlz4kqcsnq2m0000gq/T/ipykernel_49478/313181647.py\", line 53, in <listcomp>\n",
      "    for atom in native_chains[chain_id][residue_key]\n",
      "  File \"/Users/dcutting/Projects/ai-antibodies/.venv/lib/python3.10/site-packages/Bio/PDB/Chain.py\", line 108, in __getitem__\n",
      "    return Entity.__getitem__(self, id)\n",
      "  File \"/Users/dcutting/Projects/ai-antibodies/.venv/lib/python3.10/site-packages/Bio/PDB/Entity.py\", line 45, in __getitem__\n",
      "    return self.child_dict[id]\n",
      "KeyError: (' ', 111, 'E')\n",
      "\n",
      "Got error For pdb_code='7mzm_H0-L0', model_name='IgFold', got error (' ', 111, 'E') for pdb_code='7mzm_H0-L0', model_name='IgFold'.\n",
      "Traceback (most recent call last):\n",
      "  File \"/var/folders/z8/jlwrv8zn6h9fzlz4kqcsnq2m0000gq/T/ipykernel_49478/313181647.py\", line 51, in get_paratope_rmsds\n",
      "    native_paratope_atom_coords = [list(atom.coord)  for chain_id, residue_keys\n",
      "  File \"/var/folders/z8/jlwrv8zn6h9fzlz4kqcsnq2m0000gq/T/ipykernel_49478/313181647.py\", line 53, in <listcomp>\n",
      "    for atom in native_chains[chain_id][residue_key]\n",
      "  File \"/Users/dcutting/Projects/ai-antibodies/.venv/lib/python3.10/site-packages/Bio/PDB/Chain.py\", line 108, in __getitem__\n",
      "    return Entity.__getitem__(self, id)\n",
      "  File \"/Users/dcutting/Projects/ai-antibodies/.venv/lib/python3.10/site-packages/Bio/PDB/Entity.py\", line 45, in __getitem__\n",
      "    return self.child_dict[id]\n",
      "KeyError: (' ', 111, 'E')\n",
      "\n",
      "Got error For pdb_code='7mzm_H0-L0', model_name='ABB2_ensemble_rank0', got error (' ', 111, 'E') for pdb_code='7mzm_H0-L0', model_name='ABB2_ensemble_rank0'.\n",
      "Traceback (most recent call last):\n",
      "  File \"/var/folders/z8/jlwrv8zn6h9fzlz4kqcsnq2m0000gq/T/ipykernel_49478/313181647.py\", line 51, in get_paratope_rmsds\n",
      "    native_paratope_atom_coords = [list(atom.coord)  for chain_id, residue_keys\n",
      "  File \"/var/folders/z8/jlwrv8zn6h9fzlz4kqcsnq2m0000gq/T/ipykernel_49478/313181647.py\", line 53, in <listcomp>\n",
      "    for atom in native_chains[chain_id][residue_key]\n",
      "  File \"/Users/dcutting/Projects/ai-antibodies/.venv/lib/python3.10/site-packages/Bio/PDB/Chain.py\", line 108, in __getitem__\n",
      "    return Entity.__getitem__(self, id)\n",
      "  File \"/Users/dcutting/Projects/ai-antibodies/.venv/lib/python3.10/site-packages/Bio/PDB/Entity.py\", line 45, in __getitem__\n",
      "    return self.child_dict[id]\n",
      "KeyError: (' ', 111, 'E')\n",
      "\n",
      "Got error For pdb_code='7mzm_H0-L0', model_name='ABB2_ensemble_rank1', got error (' ', 111, 'E') for pdb_code='7mzm_H0-L0', model_name='ABB2_ensemble_rank1'.\n",
      "Traceback (most recent call last):\n",
      "  File \"/var/folders/z8/jlwrv8zn6h9fzlz4kqcsnq2m0000gq/T/ipykernel_49478/313181647.py\", line 51, in get_paratope_rmsds\n",
      "    native_paratope_atom_coords = [list(atom.coord)  for chain_id, residue_keys\n",
      "  File \"/var/folders/z8/jlwrv8zn6h9fzlz4kqcsnq2m0000gq/T/ipykernel_49478/313181647.py\", line 53, in <listcomp>\n",
      "    for atom in native_chains[chain_id][residue_key]\n",
      "  File \"/Users/dcutting/Projects/ai-antibodies/.venv/lib/python3.10/site-packages/Bio/PDB/Chain.py\", line 108, in __getitem__\n",
      "    return Entity.__getitem__(self, id)\n",
      "  File \"/Users/dcutting/Projects/ai-antibodies/.venv/lib/python3.10/site-packages/Bio/PDB/Entity.py\", line 45, in __getitem__\n",
      "    return self.child_dict[id]\n",
      "KeyError: (' ', 111, 'E')\n",
      "\n",
      "Got error For pdb_code='7mzm_H0-L0', model_name='ABB2_ensemble_rank2', got error (' ', 111, 'E') for pdb_code='7mzm_H0-L0', model_name='ABB2_ensemble_rank2'.\n",
      "Traceback (most recent call last):\n",
      "  File \"/var/folders/z8/jlwrv8zn6h9fzlz4kqcsnq2m0000gq/T/ipykernel_49478/313181647.py\", line 51, in get_paratope_rmsds\n",
      "    native_paratope_atom_coords = [list(atom.coord)  for chain_id, residue_keys\n",
      "  File \"/var/folders/z8/jlwrv8zn6h9fzlz4kqcsnq2m0000gq/T/ipykernel_49478/313181647.py\", line 53, in <listcomp>\n",
      "    for atom in native_chains[chain_id][residue_key]\n",
      "  File \"/Users/dcutting/Projects/ai-antibodies/.venv/lib/python3.10/site-packages/Bio/PDB/Chain.py\", line 108, in __getitem__\n",
      "    return Entity.__getitem__(self, id)\n",
      "  File \"/Users/dcutting/Projects/ai-antibodies/.venv/lib/python3.10/site-packages/Bio/PDB/Entity.py\", line 45, in __getitem__\n",
      "    return self.child_dict[id]\n",
      "KeyError: (' ', 111, 'E')\n",
      "\n",
      "Got error For pdb_code='7mzm_H0-L0', model_name='ABB2_ensemble_rank3', got error (' ', 111, 'E') for pdb_code='7mzm_H0-L0', model_name='ABB2_ensemble_rank3'.\n",
      "Traceback (most recent call last):\n",
      "  File \"/var/folders/z8/jlwrv8zn6h9fzlz4kqcsnq2m0000gq/T/ipykernel_49478/313181647.py\", line 51, in get_paratope_rmsds\n",
      "    native_paratope_atom_coords = [list(atom.coord)  for chain_id, residue_keys\n",
      "  File \"/var/folders/z8/jlwrv8zn6h9fzlz4kqcsnq2m0000gq/T/ipykernel_49478/313181647.py\", line 53, in <listcomp>\n",
      "    for atom in native_chains[chain_id][residue_key]\n",
      "  File \"/Users/dcutting/Projects/ai-antibodies/.venv/lib/python3.10/site-packages/Bio/PDB/Chain.py\", line 108, in __getitem__\n",
      "    return Entity.__getitem__(self, id)\n",
      "  File \"/Users/dcutting/Projects/ai-antibodies/.venv/lib/python3.10/site-packages/Bio/PDB/Entity.py\", line 45, in __getitem__\n",
      "    return self.child_dict[id]\n",
      "KeyError: (' ', 111, 'E')\n",
      "\n",
      "Got error For pdb_code='7mzm_H0-L0', model_name='IgFold_ensemble_rank_0', got error (' ', 111, 'E') for pdb_code='7mzm_H0-L0', model_name='IgFold_ensemble_rank_0'.\n",
      "Traceback (most recent call last):\n",
      "  File \"/var/folders/z8/jlwrv8zn6h9fzlz4kqcsnq2m0000gq/T/ipykernel_49478/313181647.py\", line 51, in get_paratope_rmsds\n",
      "    native_paratope_atom_coords = [list(atom.coord)  for chain_id, residue_keys\n",
      "  File \"/var/folders/z8/jlwrv8zn6h9fzlz4kqcsnq2m0000gq/T/ipykernel_49478/313181647.py\", line 53, in <listcomp>\n",
      "    for atom in native_chains[chain_id][residue_key]\n",
      "  File \"/Users/dcutting/Projects/ai-antibodies/.venv/lib/python3.10/site-packages/Bio/PDB/Chain.py\", line 108, in __getitem__\n",
      "    return Entity.__getitem__(self, id)\n",
      "  File \"/Users/dcutting/Projects/ai-antibodies/.venv/lib/python3.10/site-packages/Bio/PDB/Entity.py\", line 45, in __getitem__\n",
      "    return self.child_dict[id]\n",
      "KeyError: (' ', 111, 'E')\n",
      "\n",
      "Got error For pdb_code='7mzm_H0-L0', model_name='IgFold_ensemble_rank_1', got error (' ', 111, 'E') for pdb_code='7mzm_H0-L0', model_name='IgFold_ensemble_rank_1'.\n",
      "Traceback (most recent call last):\n",
      "  File \"/var/folders/z8/jlwrv8zn6h9fzlz4kqcsnq2m0000gq/T/ipykernel_49478/313181647.py\", line 51, in get_paratope_rmsds\n",
      "    native_paratope_atom_coords = [list(atom.coord)  for chain_id, residue_keys\n",
      "  File \"/var/folders/z8/jlwrv8zn6h9fzlz4kqcsnq2m0000gq/T/ipykernel_49478/313181647.py\", line 53, in <listcomp>\n",
      "    for atom in native_chains[chain_id][residue_key]\n",
      "  File \"/Users/dcutting/Projects/ai-antibodies/.venv/lib/python3.10/site-packages/Bio/PDB/Chain.py\", line 108, in __getitem__\n",
      "    return Entity.__getitem__(self, id)\n",
      "  File \"/Users/dcutting/Projects/ai-antibodies/.venv/lib/python3.10/site-packages/Bio/PDB/Entity.py\", line 45, in __getitem__\n",
      "    return self.child_dict[id]\n",
      "KeyError: (' ', 111, 'E')\n",
      "\n",
      "Got error For pdb_code='7mzm_H0-L0', model_name='IgFold_ensemble_rank_2', got error (' ', 111, 'E') for pdb_code='7mzm_H0-L0', model_name='IgFold_ensemble_rank_2'.\n",
      "Traceback (most recent call last):\n",
      "  File \"/var/folders/z8/jlwrv8zn6h9fzlz4kqcsnq2m0000gq/T/ipykernel_49478/313181647.py\", line 51, in get_paratope_rmsds\n",
      "    native_paratope_atom_coords = [list(atom.coord)  for chain_id, residue_keys\n",
      "  File \"/var/folders/z8/jlwrv8zn6h9fzlz4kqcsnq2m0000gq/T/ipykernel_49478/313181647.py\", line 53, in <listcomp>\n",
      "    for atom in native_chains[chain_id][residue_key]\n",
      "  File \"/Users/dcutting/Projects/ai-antibodies/.venv/lib/python3.10/site-packages/Bio/PDB/Chain.py\", line 108, in __getitem__\n",
      "    return Entity.__getitem__(self, id)\n",
      "  File \"/Users/dcutting/Projects/ai-antibodies/.venv/lib/python3.10/site-packages/Bio/PDB/Entity.py\", line 45, in __getitem__\n",
      "    return self.child_dict[id]\n",
      "KeyError: (' ', 111, 'E')\n",
      "\n",
      "Got error For pdb_code='7mzm_H0-L0', model_name='IgFold_ensemble_rank_3', got error (' ', 111, 'E') for pdb_code='7mzm_H0-L0', model_name='IgFold_ensemble_rank_3'.\n",
      "Traceback (most recent call last):\n",
      "  File \"/var/folders/z8/jlwrv8zn6h9fzlz4kqcsnq2m0000gq/T/ipykernel_49478/313181647.py\", line 51, in get_paratope_rmsds\n",
      "    native_paratope_atom_coords = [list(atom.coord)  for chain_id, residue_keys\n",
      "  File \"/var/folders/z8/jlwrv8zn6h9fzlz4kqcsnq2m0000gq/T/ipykernel_49478/313181647.py\", line 53, in <listcomp>\n",
      "    for atom in native_chains[chain_id][residue_key]\n",
      "  File \"/Users/dcutting/Projects/ai-antibodies/.venv/lib/python3.10/site-packages/Bio/PDB/Chain.py\", line 108, in __getitem__\n",
      "    return Entity.__getitem__(self, id)\n",
      "  File \"/Users/dcutting/Projects/ai-antibodies/.venv/lib/python3.10/site-packages/Bio/PDB/Entity.py\", line 45, in __getitem__\n",
      "    return self.child_dict[id]\n",
      "KeyError: (' ', 111, 'E')\n",
      "\n",
      "Got error For pdb_code='7mzm_H0-L0', model_name='AF2_ensemble_rank_0', got error (' ', 111, 'E') for pdb_code='7mzm_H0-L0', model_name='AF2_ensemble_rank_0'.\n",
      "Traceback (most recent call last):\n",
      "  File \"/var/folders/z8/jlwrv8zn6h9fzlz4kqcsnq2m0000gq/T/ipykernel_49478/313181647.py\", line 51, in get_paratope_rmsds\n",
      "    native_paratope_atom_coords = [list(atom.coord)  for chain_id, residue_keys\n",
      "  File \"/var/folders/z8/jlwrv8zn6h9fzlz4kqcsnq2m0000gq/T/ipykernel_49478/313181647.py\", line 53, in <listcomp>\n",
      "    for atom in native_chains[chain_id][residue_key]\n",
      "  File \"/Users/dcutting/Projects/ai-antibodies/.venv/lib/python3.10/site-packages/Bio/PDB/Chain.py\", line 108, in __getitem__\n",
      "    return Entity.__getitem__(self, id)\n",
      "  File \"/Users/dcutting/Projects/ai-antibodies/.venv/lib/python3.10/site-packages/Bio/PDB/Entity.py\", line 45, in __getitem__\n",
      "    return self.child_dict[id]\n",
      "KeyError: (' ', 111, 'E')\n",
      "\n",
      "Got error For pdb_code='7mzm_H0-L0', model_name='AF2_ensemble_rank_1', got error (' ', 111, 'E') for pdb_code='7mzm_H0-L0', model_name='AF2_ensemble_rank_1'.\n",
      "Traceback (most recent call last):\n",
      "  File \"/var/folders/z8/jlwrv8zn6h9fzlz4kqcsnq2m0000gq/T/ipykernel_49478/313181647.py\", line 51, in get_paratope_rmsds\n",
      "    native_paratope_atom_coords = [list(atom.coord)  for chain_id, residue_keys\n",
      "  File \"/var/folders/z8/jlwrv8zn6h9fzlz4kqcsnq2m0000gq/T/ipykernel_49478/313181647.py\", line 53, in <listcomp>\n",
      "    for atom in native_chains[chain_id][residue_key]\n",
      "  File \"/Users/dcutting/Projects/ai-antibodies/.venv/lib/python3.10/site-packages/Bio/PDB/Chain.py\", line 108, in __getitem__\n",
      "    return Entity.__getitem__(self, id)\n",
      "  File \"/Users/dcutting/Projects/ai-antibodies/.venv/lib/python3.10/site-packages/Bio/PDB/Entity.py\", line 45, in __getitem__\n",
      "    return self.child_dict[id]\n",
      "KeyError: (' ', 111, 'E')\n",
      "\n",
      "Got error For pdb_code='7mzm_H0-L0', model_name='AF2_ensemble_rank_2', got error (' ', 111, 'E') for pdb_code='7mzm_H0-L0', model_name='AF2_ensemble_rank_2'.\n",
      "Traceback (most recent call last):\n",
      "  File \"/var/folders/z8/jlwrv8zn6h9fzlz4kqcsnq2m0000gq/T/ipykernel_49478/313181647.py\", line 51, in get_paratope_rmsds\n",
      "    native_paratope_atom_coords = [list(atom.coord)  for chain_id, residue_keys\n",
      "  File \"/var/folders/z8/jlwrv8zn6h9fzlz4kqcsnq2m0000gq/T/ipykernel_49478/313181647.py\", line 53, in <listcomp>\n",
      "    for atom in native_chains[chain_id][residue_key]\n",
      "  File \"/Users/dcutting/Projects/ai-antibodies/.venv/lib/python3.10/site-packages/Bio/PDB/Chain.py\", line 108, in __getitem__\n",
      "    return Entity.__getitem__(self, id)\n",
      "  File \"/Users/dcutting/Projects/ai-antibodies/.venv/lib/python3.10/site-packages/Bio/PDB/Entity.py\", line 45, in __getitem__\n",
      "    return self.child_dict[id]\n",
      "KeyError: (' ', 111, 'E')\n",
      "\n",
      "Got error For pdb_code='7mzm_H0-L0', model_name='AF2_ensemble_rank_3', got error (' ', 111, 'E') for pdb_code='7mzm_H0-L0', model_name='AF2_ensemble_rank_3'.\n"
     ]
    },
    {
     "name": "stderr",
     "output_type": "stream",
     "text": [
      " 14%|█▍        | 12/84 [00:21<01:40,  1.39s/it]"
     ]
    },
    {
     "name": "stdout",
     "output_type": "stream",
     "text": [
      "Traceback (most recent call last):\n",
      "  File \"/var/folders/z8/jlwrv8zn6h9fzlz4kqcsnq2m0000gq/T/ipykernel_49478/313181647.py\", line 51, in get_paratope_rmsds\n",
      "    native_paratope_atom_coords = [list(atom.coord)  for chain_id, residue_keys\n",
      "  File \"/var/folders/z8/jlwrv8zn6h9fzlz4kqcsnq2m0000gq/T/ipykernel_49478/313181647.py\", line 53, in <listcomp>\n",
      "    for atom in native_chains[chain_id][residue_key]\n",
      "  File \"/Users/dcutting/Projects/ai-antibodies/.venv/lib/python3.10/site-packages/Bio/PDB/Chain.py\", line 108, in __getitem__\n",
      "    return Entity.__getitem__(self, id)\n",
      "  File \"/Users/dcutting/Projects/ai-antibodies/.venv/lib/python3.10/site-packages/Bio/PDB/Entity.py\", line 45, in __getitem__\n",
      "    return self.child_dict[id]\n",
      "KeyError: (' ', 111, 'E')\n",
      "\n",
      "Got error For pdb_code='7mzm_H0-L0', model_name='AF2_ensemble_rank_4', got error (' ', 111, 'E') for pdb_code='7mzm_H0-L0', model_name='AF2_ensemble_rank_4'.\n",
      "7kyo_H0-L0\n"
     ]
    },
    {
     "name": "stderr",
     "output_type": "stream",
     "text": [
      " 15%|█▌        | 13/84 [00:23<01:39,  1.40s/it]"
     ]
    },
    {
     "name": "stdout",
     "output_type": "stream",
     "text": [
      "7b0b_H0-L0\n"
     ]
    },
    {
     "name": "stderr",
     "output_type": "stream",
     "text": [
      " 17%|█▋        | 14/84 [00:24<01:37,  1.40s/it]"
     ]
    },
    {
     "name": "stdout",
     "output_type": "stream",
     "text": [
      "7qny_A0-B0\n"
     ]
    },
    {
     "name": "stderr",
     "output_type": "stream",
     "text": [
      " 18%|█▊        | 15/84 [00:25<01:36,  1.40s/it]"
     ]
    },
    {
     "name": "stdout",
     "output_type": "stream",
     "text": [
      "7n4i_H0-L0\n"
     ]
    },
    {
     "name": "stderr",
     "output_type": "stream",
     "text": [
      " 19%|█▉        | 16/84 [00:29<02:10,  1.92s/it]"
     ]
    },
    {
     "name": "stdout",
     "output_type": "stream",
     "text": [
      "7k7h_H0-L0\n"
     ]
    },
    {
     "name": "stderr",
     "output_type": "stream",
     "text": [
      " 20%|██        | 17/84 [00:30<02:04,  1.86s/it]"
     ]
    },
    {
     "name": "stdout",
     "output_type": "stream",
     "text": [
      "7l7e_C0-D0\n"
     ]
    },
    {
     "name": "stderr",
     "output_type": "stream",
     "text": [
      " 21%|██▏       | 18/84 [00:32<02:00,  1.83s/it]"
     ]
    },
    {
     "name": "stdout",
     "output_type": "stream",
     "text": [
      "7msq_D0-E0\n"
     ]
    },
    {
     "name": "stderr",
     "output_type": "stream",
     "text": [
      " 23%|██▎       | 19/84 [00:33<01:49,  1.69s/it]"
     ]
    },
    {
     "name": "stdout",
     "output_type": "stream",
     "text": [
      "7ps2_A0-B0\n"
     ]
    },
    {
     "name": "stderr",
     "output_type": "stream",
     "text": [
      " 24%|██▍       | 20/84 [00:35<01:42,  1.60s/it]"
     ]
    },
    {
     "name": "stdout",
     "output_type": "stream",
     "text": [
      "7s0b_A0-B0\n"
     ]
    },
    {
     "name": "stderr",
     "output_type": "stream",
     "text": [
      " 25%|██▌       | 21/84 [00:36<01:37,  1.54s/it]"
     ]
    },
    {
     "name": "stdout",
     "output_type": "stream",
     "text": [
      "7bbg_H0-L0\n"
     ]
    },
    {
     "name": "stderr",
     "output_type": "stream",
     "text": [
      " 26%|██▌       | 22/84 [00:38<01:34,  1.52s/it]"
     ]
    },
    {
     "name": "stdout",
     "output_type": "stream",
     "text": [
      "7r8l_H0-L0\n"
     ]
    },
    {
     "name": "stderr",
     "output_type": "stream",
     "text": [
      " 27%|██▋       | 23/84 [00:39<01:27,  1.43s/it]"
     ]
    },
    {
     "name": "stdout",
     "output_type": "stream",
     "text": [
      "7mzh_H0-L0\n"
     ]
    },
    {
     "name": "stderr",
     "output_type": "stream",
     "text": [
      " 29%|██▊       | 24/84 [00:40<01:23,  1.39s/it]"
     ]
    },
    {
     "name": "stdout",
     "output_type": "stream",
     "text": [
      "7nx3_B0-C0\n"
     ]
    },
    {
     "name": "stderr",
     "output_type": "stream",
     "text": [
      " 30%|██▉       | 25/84 [00:42<01:31,  1.54s/it]"
     ]
    },
    {
     "name": "stdout",
     "output_type": "stream",
     "text": [
      "7l7r_B0-A0\n"
     ]
    },
    {
     "name": "stderr",
     "output_type": "stream",
     "text": [
      " 31%|███       | 26/84 [00:44<01:30,  1.55s/it]"
     ]
    },
    {
     "name": "stdout",
     "output_type": "stream",
     "text": [
      "7q0g_A0-B0\n"
     ]
    },
    {
     "name": "stderr",
     "output_type": "stream",
     "text": [
      " 32%|███▏      | 27/84 [00:45<01:21,  1.43s/it]"
     ]
    },
    {
     "name": "stdout",
     "output_type": "stream",
     "text": [
      "7phu_B0-C0\n"
     ]
    },
    {
     "name": "stderr",
     "output_type": "stream",
     "text": [
      " 33%|███▎      | 28/84 [00:46<01:21,  1.46s/it]"
     ]
    },
    {
     "name": "stdout",
     "output_type": "stream",
     "text": [
      "7seg_H0-L0\n"
     ]
    },
    {
     "name": "stderr",
     "output_type": "stream",
     "text": [
      " 35%|███▍      | 29/84 [00:47<01:14,  1.36s/it]"
     ]
    },
    {
     "name": "stdout",
     "output_type": "stream",
     "text": [
      "7s4s_H0-L0\n"
     ]
    },
    {
     "name": "stderr",
     "output_type": "stream",
     "text": [
      " 36%|███▌      | 30/84 [00:49<01:12,  1.34s/it]"
     ]
    },
    {
     "name": "stdout",
     "output_type": "stream",
     "text": [
      "7phw_B0-C0\n"
     ]
    },
    {
     "name": "stderr",
     "output_type": "stream",
     "text": [
      " 37%|███▋      | 31/84 [00:50<01:14,  1.41s/it]"
     ]
    },
    {
     "name": "stdout",
     "output_type": "stream",
     "text": [
      "7lr4_H0-L0\n"
     ]
    },
    {
     "name": "stderr",
     "output_type": "stream",
     "text": [
      " 38%|███▊      | 32/84 [00:52<01:11,  1.37s/it]"
     ]
    },
    {
     "name": "stdout",
     "output_type": "stream",
     "text": [
      "7l7d_H0-L0\n"
     ]
    },
    {
     "name": "stderr",
     "output_type": "stream",
     "text": [
      " 39%|███▉      | 33/84 [00:53<01:13,  1.44s/it]"
     ]
    },
    {
     "name": "stdout",
     "output_type": "stream",
     "text": [
      "7l0l_H0-L0\n"
     ]
    },
    {
     "name": "stderr",
     "output_type": "stream",
     "text": [
      " 40%|████      | 34/84 [00:55<01:16,  1.53s/it]"
     ]
    },
    {
     "name": "stdout",
     "output_type": "stream",
     "text": [
      "7mzj_H0-L0\n"
     ]
    },
    {
     "name": "stderr",
     "output_type": "stream",
     "text": [
      " 42%|████▏     | 35/84 [00:56<01:11,  1.47s/it]"
     ]
    },
    {
     "name": "stdout",
     "output_type": "stream",
     "text": [
      "7qu1_A0-B0\n"
     ]
    },
    {
     "name": "stderr",
     "output_type": "stream",
     "text": [
      " 43%|████▎     | 36/84 [00:57<01:07,  1.40s/it]"
     ]
    },
    {
     "name": "stdout",
     "output_type": "stream",
     "text": [
      "7e72_A0-B0\n"
     ]
    },
    {
     "name": "stderr",
     "output_type": "stream",
     "text": [
      " 44%|████▍     | 37/84 [00:59<01:03,  1.35s/it]"
     ]
    },
    {
     "name": "stdout",
     "output_type": "stream",
     "text": [
      "7daa_H0-L0\n"
     ]
    },
    {
     "name": "stderr",
     "output_type": "stream",
     "text": [
      " 45%|████▌     | 38/84 [01:00<00:57,  1.24s/it]"
     ]
    },
    {
     "name": "stdout",
     "output_type": "stream",
     "text": [
      "7np1_H0-L0\n"
     ]
    },
    {
     "name": "stderr",
     "output_type": "stream",
     "text": [
      " 46%|████▋     | 39/84 [01:01<00:56,  1.26s/it]"
     ]
    },
    {
     "name": "stdout",
     "output_type": "stream",
     "text": [
      "7n4j_H0-L0\n"
     ]
    },
    {
     "name": "stderr",
     "output_type": "stream",
     "text": [
      " 48%|████▊     | 40/84 [01:02<00:55,  1.27s/it]"
     ]
    },
    {
     "name": "stdout",
     "output_type": "stream",
     "text": [
      "7dk2_A0-B0\n"
     ]
    },
    {
     "name": "stderr",
     "output_type": "stream",
     "text": [
      " 49%|████▉     | 41/84 [01:04<00:55,  1.29s/it]"
     ]
    },
    {
     "name": "stdout",
     "output_type": "stream",
     "text": [
      "7pr0_H0-L0\n"
     ]
    },
    {
     "name": "stderr",
     "output_type": "stream",
     "text": [
      " 50%|█████     | 42/84 [01:05<00:56,  1.35s/it]"
     ]
    },
    {
     "name": "stdout",
     "output_type": "stream",
     "text": [
      "7s13_H0-L0\n"
     ]
    },
    {
     "name": "stderr",
     "output_type": "stream",
     "text": [
      " 51%|█████     | 43/84 [01:07<00:57,  1.41s/it]"
     ]
    },
    {
     "name": "stdout",
     "output_type": "stream",
     "text": [
      "7l7r_D0-C0\n"
     ]
    },
    {
     "name": "stderr",
     "output_type": "stream",
     "text": [
      " 52%|█████▏    | 44/84 [01:08<00:57,  1.45s/it]"
     ]
    },
    {
     "name": "stdout",
     "output_type": "stream",
     "text": [
      "7f7e_C0-L0\n"
     ]
    },
    {
     "name": "stderr",
     "output_type": "stream",
     "text": [
      " 54%|█████▎    | 45/84 [01:10<00:57,  1.46s/it]"
     ]
    },
    {
     "name": "stdout",
     "output_type": "stream",
     "text": [
      "7rk1_C0-C1\n"
     ]
    },
    {
     "name": "stderr",
     "output_type": "stream",
     "text": [
      " 55%|█████▍    | 46/84 [01:11<00:53,  1.41s/it]"
     ]
    },
    {
     "name": "stdout",
     "output_type": "stream",
     "text": [
      "7s11_H0-L0\n"
     ]
    },
    {
     "name": "stderr",
     "output_type": "stream",
     "text": [
      " 56%|█████▌    | 47/84 [01:12<00:49,  1.34s/it]"
     ]
    },
    {
     "name": "stdout",
     "output_type": "stream",
     "text": [
      "7bnv_H0-L0\n"
     ]
    },
    {
     "name": "stderr",
     "output_type": "stream",
     "text": [
      " 57%|█████▋    | 48/84 [01:13<00:47,  1.32s/it]"
     ]
    },
    {
     "name": "stdout",
     "output_type": "stream",
     "text": [
      "7mzf_H0-L0\n"
     ]
    },
    {
     "name": "stderr",
     "output_type": "stream",
     "text": [
      " 58%|█████▊    | 49/84 [01:15<00:44,  1.26s/it]"
     ]
    },
    {
     "name": "stdout",
     "output_type": "stream",
     "text": [
      "7kn4_H0-L0\n"
     ]
    },
    {
     "name": "stderr",
     "output_type": "stream",
     "text": [
      " 60%|█████▉    | 50/84 [01:16<00:43,  1.28s/it]"
     ]
    },
    {
     "name": "stdout",
     "output_type": "stream",
     "text": [
      "7r89_C0-D0\n"
     ]
    },
    {
     "name": "stderr",
     "output_type": "stream",
     "text": [
      " 61%|██████    | 51/84 [01:18<00:46,  1.41s/it]"
     ]
    },
    {
     "name": "stdout",
     "output_type": "stream",
     "text": [
      "7kf1_H0-L0\n"
     ]
    },
    {
     "name": "stderr",
     "output_type": "stream",
     "text": [
      " 62%|██████▏   | 52/84 [01:19<00:43,  1.35s/it]"
     ]
    },
    {
     "name": "stdout",
     "output_type": "stream",
     "text": [
      "7e3o_H0-L0\n"
     ]
    },
    {
     "name": "stderr",
     "output_type": "stream",
     "text": [
      " 63%|██████▎   | 53/84 [01:20<00:41,  1.33s/it]"
     ]
    },
    {
     "name": "stdout",
     "output_type": "stream",
     "text": [
      "7lf7_A0-B0\n"
     ]
    },
    {
     "name": "stderr",
     "output_type": "stream",
     "text": [
      " 64%|██████▍   | 54/84 [01:22<00:41,  1.37s/it]"
     ]
    },
    {
     "name": "stdout",
     "output_type": "stream",
     "text": [
      "7mdj_A0-B0\n"
     ]
    },
    {
     "name": "stderr",
     "output_type": "stream",
     "text": [
      " 65%|██████▌   | 55/84 [01:23<00:37,  1.30s/it]"
     ]
    },
    {
     "name": "stdout",
     "output_type": "stream",
     "text": [
      "7shu_E0-F0\n"
     ]
    },
    {
     "name": "stderr",
     "output_type": "stream",
     "text": [
      " 67%|██████▋   | 56/84 [01:24<00:36,  1.29s/it]"
     ]
    },
    {
     "name": "stdout",
     "output_type": "stream",
     "text": [
      "7kez_H0-L0\n"
     ]
    },
    {
     "name": "stderr",
     "output_type": "stream",
     "text": [
      " 68%|██████▊   | 57/84 [01:25<00:33,  1.26s/it]"
     ]
    },
    {
     "name": "stdout",
     "output_type": "stream",
     "text": [
      "7lfa_B0-D0\n"
     ]
    },
    {
     "name": "stderr",
     "output_type": "stream",
     "text": [
      " 69%|██████▉   | 58/84 [01:27<00:37,  1.45s/it]"
     ]
    },
    {
     "name": "stdout",
     "output_type": "stream",
     "text": [
      "7ps6_H0-L0\n"
     ]
    },
    {
     "name": "stderr",
     "output_type": "stream",
     "text": [
      " 70%|███████   | 59/84 [01:28<00:33,  1.36s/it]"
     ]
    },
    {
     "name": "stdout",
     "output_type": "stream",
     "text": [
      "7mrz_X0-Y0\n"
     ]
    },
    {
     "name": "stderr",
     "output_type": "stream",
     "text": [
      " 71%|███████▏  | 60/84 [01:30<00:35,  1.48s/it]"
     ]
    },
    {
     "name": "stdout",
     "output_type": "stream",
     "text": [
      "7lfb_H0-L0\n"
     ]
    },
    {
     "name": "stderr",
     "output_type": "stream",
     "text": [
      " 73%|███████▎  | 61/84 [01:31<00:31,  1.38s/it]"
     ]
    },
    {
     "name": "stdout",
     "output_type": "stream",
     "text": [
      "7sem_B0-C0\n"
     ]
    },
    {
     "name": "stderr",
     "output_type": "stream",
     "text": [
      " 74%|███████▍  | 62/84 [01:33<00:30,  1.41s/it]"
     ]
    },
    {
     "name": "stdout",
     "output_type": "stream",
     "text": [
      "7rk2_C0-C1\n"
     ]
    },
    {
     "name": "stderr",
     "output_type": "stream",
     "text": [
      " 75%|███████▌  | 63/84 [01:34<00:31,  1.51s/it]"
     ]
    },
    {
     "name": "stdout",
     "output_type": "stream",
     "text": [
      "7qnw_A0-B0\n"
     ]
    },
    {
     "name": "stderr",
     "output_type": "stream",
     "text": [
      " 76%|███████▌  | 64/84 [01:36<00:28,  1.45s/it]"
     ]
    },
    {
     "name": "stdout",
     "output_type": "stream",
     "text": [
      "7mzk_N0-M0\n"
     ]
    },
    {
     "name": "stderr",
     "output_type": "stream",
     "text": [
      " 77%|███████▋  | 65/84 [01:37<00:26,  1.41s/it]"
     ]
    },
    {
     "name": "stdout",
     "output_type": "stream",
     "text": [
      "7kn3_H0-L0\n"
     ]
    },
    {
     "name": "stderr",
     "output_type": "stream",
     "text": [
      " 79%|███████▊  | 66/84 [01:38<00:24,  1.39s/it]"
     ]
    },
    {
     "name": "stdout",
     "output_type": "stream",
     "text": [
      "7rah_D0-C0\n"
     ]
    },
    {
     "name": "stderr",
     "output_type": "stream",
     "text": [
      " 80%|███████▉  | 67/84 [01:40<00:23,  1.40s/it]"
     ]
    },
    {
     "name": "stdout",
     "output_type": "stream",
     "text": [
      "7soe_B0-L0\n"
     ]
    },
    {
     "name": "stderr",
     "output_type": "stream",
     "text": [
      " 81%|████████  | 68/84 [01:42<00:27,  1.71s/it]"
     ]
    },
    {
     "name": "stdout",
     "output_type": "stream",
     "text": [
      "7ps4_H0-L0\n"
     ]
    },
    {
     "name": "stderr",
     "output_type": "stream",
     "text": [
      " 82%|████████▏ | 69/84 [01:43<00:23,  1.57s/it]"
     ]
    },
    {
     "name": "stdout",
     "output_type": "stream",
     "text": [
      "7shz_K0-L0\n"
     ]
    },
    {
     "name": "stderr",
     "output_type": "stream",
     "text": [
      " 83%|████████▎ | 70/84 [01:45<00:20,  1.50s/it]"
     ]
    },
    {
     "name": "stdout",
     "output_type": "stream",
     "text": [
      "7ps0_H0-L0\n"
     ]
    },
    {
     "name": "stderr",
     "output_type": "stream",
     "text": [
      " 85%|████████▍ | 71/84 [01:46<00:18,  1.43s/it]"
     ]
    },
    {
     "name": "stdout",
     "output_type": "stream",
     "text": [
      "7bbj_H0-L0\n"
     ]
    },
    {
     "name": "stderr",
     "output_type": "stream",
     "text": [
      " 86%|████████▌ | 72/84 [01:48<00:18,  1.51s/it]"
     ]
    },
    {
     "name": "stdout",
     "output_type": "stream",
     "text": [
      "7vux_H0-L0\n"
     ]
    },
    {
     "name": "stderr",
     "output_type": "stream",
     "text": [
      " 87%|████████▋ | 73/84 [01:49<00:15,  1.42s/it]"
     ]
    },
    {
     "name": "stdout",
     "output_type": "stream",
     "text": [
      "7vmu_A0-A1\n"
     ]
    },
    {
     "name": "stderr",
     "output_type": "stream",
     "text": [
      " 88%|████████▊ | 74/84 [01:50<00:13,  1.35s/it]"
     ]
    },
    {
     "name": "stdout",
     "output_type": "stream",
     "text": [
      "7coe_H0-L0\n"
     ]
    },
    {
     "name": "stderr",
     "output_type": "stream",
     "text": [
      " 89%|████████▉ | 75/84 [01:51<00:12,  1.33s/it]"
     ]
    },
    {
     "name": "stdout",
     "output_type": "stream",
     "text": [
      "7ps6_C0-D0\n"
     ]
    },
    {
     "name": "stderr",
     "output_type": "stream",
     "text": [
      " 90%|█████████ | 76/84 [01:53<00:10,  1.32s/it]"
     ]
    },
    {
     "name": "stdout",
     "output_type": "stream",
     "text": [
      "7q0g_H0-L0\n"
     ]
    },
    {
     "name": "stderr",
     "output_type": "stream",
     "text": [
      " 92%|█████████▏| 77/84 [01:54<00:08,  1.29s/it]"
     ]
    },
    {
     "name": "stdout",
     "output_type": "stream",
     "text": [
      "7mzg_H0-L0\n"
     ]
    },
    {
     "name": "stderr",
     "output_type": "stream",
     "text": [
      " 93%|█████████▎| 78/84 [01:55<00:07,  1.25s/it]"
     ]
    },
    {
     "name": "stdout",
     "output_type": "stream",
     "text": [
      "7pi7_B0-C0\n"
     ]
    },
    {
     "name": "stderr",
     "output_type": "stream",
     "text": [
      " 94%|█████████▍| 79/84 [01:57<00:06,  1.33s/it]"
     ]
    },
    {
     "name": "stdout",
     "output_type": "stream",
     "text": [
      "7e5o_H0-L0\n"
     ]
    },
    {
     "name": "stderr",
     "output_type": "stream",
     "text": [
      " 95%|█████████▌| 80/84 [01:58<00:05,  1.32s/it]"
     ]
    },
    {
     "name": "stdout",
     "output_type": "stream",
     "text": [
      "7n3i_H0-L0\n"
     ]
    },
    {
     "name": "stderr",
     "output_type": "stream",
     "text": [
      " 96%|█████████▋| 81/84 [01:59<00:03,  1.27s/it]"
     ]
    },
    {
     "name": "stdout",
     "output_type": "stream",
     "text": [
      "7ps2_H0-L0\n"
     ]
    },
    {
     "name": "stderr",
     "output_type": "stream",
     "text": [
      " 98%|█████████▊| 82/84 [02:00<00:02,  1.28s/it]"
     ]
    },
    {
     "name": "stdout",
     "output_type": "stream",
     "text": [
      "7rks_H0-L0\n"
     ]
    },
    {
     "name": "stderr",
     "output_type": "stream",
     "text": [
      " 99%|█████████▉| 83/84 [02:02<00:01,  1.36s/it]"
     ]
    },
    {
     "name": "stdout",
     "output_type": "stream",
     "text": [
      "7kf0_H0-L0\n"
     ]
    },
    {
     "name": "stderr",
     "output_type": "stream",
     "text": [
      "100%|██████████| 84/84 [02:03<00:00,  1.47s/it]\n"
     ]
    }
   ],
   "source": [
    "records = []\n",
    "model_names = ([\"ABodyBuilder2\", \"ABlooper\", \"AF2\", \"IgFold\"]+ [f\"ABB2_ensemble_rank{i}\" for i in range(4)]\n",
    "               + [f\"IgFold_ensemble_rank_{i}\" for i in range(4)] + [f\"AF2_ensemble_rank_{i}\" for i in range(5)]\n",
    "               )\n",
    "benchmark_folder = Path('../../benchmark_haddock_27_July_2024')\n",
    "for path in tqdm(list(benchmark_folder.iterdir())):\n",
    "    if path.is_dir():\n",
    "        pdb_code = path.name\n",
    "    else:\n",
    "        continue\n",
    "    print(pdb_code)\n",
    "    for model_name in model_names:\n",
    "        try:\n",
    "            records.append(get_paratope_rmsds(pdb_code,model_name,benchmark_folder))\n",
    "        except Exception as e:\n",
    "            print(f\"Got error {e} for {pdb_code=}, {model_name=}.\")"
   ],
   "metadata": {
    "collapsed": false,
    "pycharm": {
     "name": "#%%\n"
    }
   }
  },
  {
   "cell_type": "code",
   "execution_count": 34,
   "outputs": [],
   "source": [
    "paratope_rmsd_df = pd.DataFrame.from_records(records)"
   ],
   "metadata": {
    "collapsed": false,
    "pycharm": {
     "name": "#%%\n"
    }
   }
  },
  {
   "cell_type": "code",
   "execution_count": 35,
   "outputs": [],
   "source": [
    "paratope_rmsd_df.to_csv('../data/paratope_rmsds.csv')"
   ],
   "metadata": {
    "collapsed": false,
    "pycharm": {
     "name": "#%%\n"
    }
   }
  },
  {
   "cell_type": "code",
   "execution_count": 36,
   "outputs": [
    {
     "name": "stdout",
     "output_type": "stream",
     "text": [
      "             pdb                model  rmsd_paratope\n",
      "0     7rfb_A0-B0        ABodyBuilder2       3.427635\n",
      "1     7rfb_A0-B0             ABlooper       3.984238\n",
      "2     7rfb_A0-B0                  AF2       3.929652\n",
      "3     7rfb_A0-B0               IgFold       2.799389\n",
      "4     7rfb_A0-B0  ABB2_ensemble_rank0       3.427635\n",
      "...          ...                  ...            ...\n",
      "1389  7kf0_H0-L0  AF2_ensemble_rank_0       2.011022\n",
      "1390  7kf0_H0-L0  AF2_ensemble_rank_1       1.873005\n",
      "1391  7kf0_H0-L0  AF2_ensemble_rank_2       2.009313\n",
      "1392  7kf0_H0-L0  AF2_ensemble_rank_3       2.049127\n",
      "1393  7kf0_H0-L0  AF2_ensemble_rank_4       1.850511\n",
      "\n",
      "[1394 rows x 3 columns]\n"
     ]
    }
   ],
   "source": [
    "print(paratope_rmsd_df)"
   ],
   "metadata": {
    "collapsed": false,
    "pycharm": {
     "name": "#%%\n"
    }
   }
  },
  {
   "cell_type": "code",
   "execution_count": null,
   "outputs": [],
   "source": [],
   "metadata": {
    "collapsed": false,
    "pycharm": {
     "name": "#%%\n"
    }
   }
  }
 ],
 "metadata": {
  "kernelspec": {
   "display_name": "Python 3",
   "language": "python",
   "name": "python3"
  },
  "language_info": {
   "codemirror_mode": {
    "name": "ipython",
    "version": 2
   },
   "file_extension": ".py",
   "mimetype": "text/x-python",
   "name": "python",
   "nbconvert_exporter": "python",
   "pygments_lexer": "ipython2",
   "version": "2.7.6"
  }
 },
 "nbformat": 4,
 "nbformat_minor": 0
}